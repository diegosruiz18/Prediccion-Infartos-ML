{
 "nbformat": 4,
 "nbformat_minor": 0,
 "metadata": {
  "colab": {
   "provenance": []
  },
  "kernelspec": {
   "name": "python3",
   "display_name": "Python 3"
  },
  "language_info": {
   "name": "python"
  }
 },
 "cells": [
  {
   "cell_type": "markdown",
   "source": [
    "# **Predicción de Riesgo de Infartos con Machine Learning** 💝\n",
    "En este notebook se aplican técnicas de *Machine Learning* para predecir el riesgo de infarto a partir de datos médicos. Se busca desarrollar un modelo que permita identificar pacientes con mayor probabilidad de sufrir un infarto y clasificarlos, con el fin de apoyar decisiones preventivas en el ámbito salud.\n",
    "\n",
    "# ***Heart attack risk prediction with Machine Learning*** 💝\n",
    "*In this notebook Machine Learning techniques are applied to predict the risk of heart attack based on medical data. The goal is to develop a model that can identify patients with a high probability of experiencing a heart attack and clasify them, in order to support preventive decision-making in the healthcare field.*"
   ],
   "metadata": {
    "id": "OBmGKQY_2IQY"
   }
  },
  {
   "cell_type": "markdown",
   "source": [
    "## Descripción del dataset / *Dataset description*"
   ],
   "metadata": {
    "id": "8_1IvnWqXC9B"
   }
  },
  {
   "cell_type": "markdown",
   "source": [
    "| Column name                                      | Description                                                                  |\n",
    "|--------------------------------------------------|------------------------------------------------------------------------------|\n",
    "| ID                                               | Unique identifier for each patient.                                          |\n",
    "| Genero / *Gender*                                | Gender of the patient: Male or Female                                        |\n",
    "| Edad / *Age*                                     | Age of the patient in years.                                                 |\n",
    "| Flag_hipertension / *Hypertension flag*          | Whether the patient has hypertension (0 = No, 1 = Yes).                      |\n",
    "| Flag_problem_cardiaco / *Heart disease flag*     | Whether the patient has a history of heart disease (0 = No, 1 = Yes).        |\n",
    "| Tipo_trabajo / *Type of work*                    | Type of employment: private company, government, never worked, etc.          |\n",
    "| Zona_residencia / *Residence area*               | Area of residence: urban or rural.                                           |\n",
    "| Promedio_nivel_glucosa / *Average glucose level* | Average blood glucose level.                                                 |\n",
    "| IMC / *BMI*                                      | Body Mass Index.                                                             |\n",
    "| Flag_fumador / *Smoker flag*                     | Smoking status: smoker, never, former smoker.                                |\n",
    "| Ataque_cardiaco / *Heart attack*                 | Target variable: whether the patient suffered a heart attack (1) or not (0). |"
   ],
   "metadata": {
    "id": "Oq1YcVH6Ugzq"
   }
  },
  {
   "cell_type": "markdown",
   "source": [
    "# 1. Carga de librerías / *Libraries loading*"
   ],
   "metadata": {
    "id": "XXm4gsFsdEa-"
   }
  },
  {
   "cell_type": "code",
   "metadata": {
    "id": "OJtIc4oNRZ5B",
    "ExecuteTime": {
     "end_time": "2025-07-20T00:09:23.199218Z",
     "start_time": "2025-07-20T00:09:23.162395Z"
    }
   },
   "source": [
    "import pandas as pd\n",
    "import numpy as np\n",
    "import matplotlib.pyplot as plt\n",
    "import seaborn as sns\n",
    "\n",
    "#Detección de valores vacíos\n",
    "import missingno as msno # !pip install missingno\n",
    "\n",
    "#Librería para valores aleatorios\n",
    "import random\n",
    "\n",
    "#Librerías de Machine Learning\n",
    "from sklearn.model_selection import train_test_split\n",
    "from imblearn.over_sampling import SMOTE\n",
    "from sklearn.metrics import accuracy_score, confusion_matrix, classification_report\n",
    "import xgboost as xgb\n",
    "from sklearn.ensemble import RandomForestClassifier"
   ],
   "outputs": [],
   "execution_count": 2
  },
  {
   "cell_type": "code",
   "source": [
    "#Cargar Datos\n",
    "df = pd.read_csv('Dataset_Infartos.csv', sep=';')\n",
    "df.head()"
   ],
   "metadata": {
    "id": "GVXYVCJoRfZC",
    "colab": {
     "base_uri": "https://localhost:8080/",
     "height": 206
    },
    "outputId": "631b794b-6e14-492f-9c3d-5b5a01aacbd6",
    "ExecuteTime": {
     "end_time": "2025-07-20T00:09:23.297168Z",
     "start_time": "2025-07-20T00:09:23.223383Z"
    }
   },
   "outputs": [
    {
     "data": {
      "text/plain": [
       "      ID  Genero  Edad  Flag_hipertension  Flag_problem_cardiaco  \\\n",
       "0  30669  Hombre   3.0                  0                      0   \n",
       "1  30468  Hombre  58.0                  1                      0   \n",
       "2  16523   Mujer   8.0                  0                      0   \n",
       "3  56543   Mujer  70.0                  0                      0   \n",
       "4  46136  Hombre  14.0                  0                      0   \n",
       "\n",
       "  Estados_civil     Tipo_trabajo Zona_residencia  Promedio_nivel_glucosa  \\\n",
       "0            No     cuidar_ninos           Rural                   95.12   \n",
       "1            Si  Empresa_privada          Urbano                   87.96   \n",
       "2            No  Empresa_privada          Urbano                  110.89   \n",
       "3            Si  Empresa_privada           Rural                   69.04   \n",
       "4            No    Nunca_trabajo           Rural                  161.28   \n",
       "\n",
       "    IMC  Flag_fumador  Ataque_cardiaco  \n",
       "0  18.0           NaN                0  \n",
       "1  39.2    Nunca_fuma                0  \n",
       "2  17.6           NaN                0  \n",
       "3  35.9  antes_fumaba                0  \n",
       "4  19.1           NaN                0  "
      ],
      "text/html": [
       "<div>\n",
       "<style scoped>\n",
       "    .dataframe tbody tr th:only-of-type {\n",
       "        vertical-align: middle;\n",
       "    }\n",
       "\n",
       "    .dataframe tbody tr th {\n",
       "        vertical-align: top;\n",
       "    }\n",
       "\n",
       "    .dataframe thead th {\n",
       "        text-align: right;\n",
       "    }\n",
       "</style>\n",
       "<table border=\"1\" class=\"dataframe\">\n",
       "  <thead>\n",
       "    <tr style=\"text-align: right;\">\n",
       "      <th></th>\n",
       "      <th>ID</th>\n",
       "      <th>Genero</th>\n",
       "      <th>Edad</th>\n",
       "      <th>Flag_hipertension</th>\n",
       "      <th>Flag_problem_cardiaco</th>\n",
       "      <th>Estados_civil</th>\n",
       "      <th>Tipo_trabajo</th>\n",
       "      <th>Zona_residencia</th>\n",
       "      <th>Promedio_nivel_glucosa</th>\n",
       "      <th>IMC</th>\n",
       "      <th>Flag_fumador</th>\n",
       "      <th>Ataque_cardiaco</th>\n",
       "    </tr>\n",
       "  </thead>\n",
       "  <tbody>\n",
       "    <tr>\n",
       "      <th>0</th>\n",
       "      <td>30669</td>\n",
       "      <td>Hombre</td>\n",
       "      <td>3.0</td>\n",
       "      <td>0</td>\n",
       "      <td>0</td>\n",
       "      <td>No</td>\n",
       "      <td>cuidar_ninos</td>\n",
       "      <td>Rural</td>\n",
       "      <td>95.12</td>\n",
       "      <td>18.0</td>\n",
       "      <td>NaN</td>\n",
       "      <td>0</td>\n",
       "    </tr>\n",
       "    <tr>\n",
       "      <th>1</th>\n",
       "      <td>30468</td>\n",
       "      <td>Hombre</td>\n",
       "      <td>58.0</td>\n",
       "      <td>1</td>\n",
       "      <td>0</td>\n",
       "      <td>Si</td>\n",
       "      <td>Empresa_privada</td>\n",
       "      <td>Urbano</td>\n",
       "      <td>87.96</td>\n",
       "      <td>39.2</td>\n",
       "      <td>Nunca_fuma</td>\n",
       "      <td>0</td>\n",
       "    </tr>\n",
       "    <tr>\n",
       "      <th>2</th>\n",
       "      <td>16523</td>\n",
       "      <td>Mujer</td>\n",
       "      <td>8.0</td>\n",
       "      <td>0</td>\n",
       "      <td>0</td>\n",
       "      <td>No</td>\n",
       "      <td>Empresa_privada</td>\n",
       "      <td>Urbano</td>\n",
       "      <td>110.89</td>\n",
       "      <td>17.6</td>\n",
       "      <td>NaN</td>\n",
       "      <td>0</td>\n",
       "    </tr>\n",
       "    <tr>\n",
       "      <th>3</th>\n",
       "      <td>56543</td>\n",
       "      <td>Mujer</td>\n",
       "      <td>70.0</td>\n",
       "      <td>0</td>\n",
       "      <td>0</td>\n",
       "      <td>Si</td>\n",
       "      <td>Empresa_privada</td>\n",
       "      <td>Rural</td>\n",
       "      <td>69.04</td>\n",
       "      <td>35.9</td>\n",
       "      <td>antes_fumaba</td>\n",
       "      <td>0</td>\n",
       "    </tr>\n",
       "    <tr>\n",
       "      <th>4</th>\n",
       "      <td>46136</td>\n",
       "      <td>Hombre</td>\n",
       "      <td>14.0</td>\n",
       "      <td>0</td>\n",
       "      <td>0</td>\n",
       "      <td>No</td>\n",
       "      <td>Nunca_trabajo</td>\n",
       "      <td>Rural</td>\n",
       "      <td>161.28</td>\n",
       "      <td>19.1</td>\n",
       "      <td>NaN</td>\n",
       "      <td>0</td>\n",
       "    </tr>\n",
       "  </tbody>\n",
       "</table>\n",
       "</div>"
      ]
     },
     "execution_count": 3,
     "metadata": {},
     "output_type": "execute_result"
    }
   ],
   "execution_count": 3
  },
  {
   "cell_type": "markdown",
   "source": [
    "# 2. Exploración de datos / *Data exploration*"
   ],
   "metadata": {
    "id": "Yyb4idgRTPeS"
   }
  },
  {
   "cell_type": "code",
   "source": [
    "#Dimensiones del dataset\n",
    "df.shape"
   ],
   "metadata": {
    "id": "MYzCumkpRfXB",
    "colab": {
     "base_uri": "https://localhost:8080/"
    },
    "outputId": "851e638d-a127-4082-db03-ba05b33042fc",
    "ExecuteTime": {
     "end_time": "2025-07-20T00:09:23.347321Z",
     "start_time": "2025-07-20T00:09:23.343283Z"
    }
   },
   "outputs": [
    {
     "data": {
      "text/plain": [
       "(43400, 12)"
      ]
     },
     "execution_count": 4,
     "metadata": {},
     "output_type": "execute_result"
    }
   ],
   "execution_count": 4
  },
  {
   "cell_type": "code",
   "source": [
    "df.info()"
   ],
   "metadata": {
    "id": "G2qougVNRfUn",
    "colab": {
     "base_uri": "https://localhost:8080/"
    },
    "outputId": "118ff170-901e-4005-c7ec-3ce71390ce1f",
    "ExecuteTime": {
     "end_time": "2025-07-20T00:09:23.437290Z",
     "start_time": "2025-07-20T00:09:23.422391Z"
    }
   },
   "outputs": [
    {
     "name": "stdout",
     "output_type": "stream",
     "text": [
      "<class 'pandas.core.frame.DataFrame'>\n",
      "RangeIndex: 43400 entries, 0 to 43399\n",
      "Data columns (total 12 columns):\n",
      " #   Column                  Non-Null Count  Dtype  \n",
      "---  ------                  --------------  -----  \n",
      " 0   ID                      43400 non-null  int64  \n",
      " 1   Genero                  43400 non-null  object \n",
      " 2   Edad                    43400 non-null  float64\n",
      " 3   Flag_hipertension       43400 non-null  int64  \n",
      " 4   Flag_problem_cardiaco   43400 non-null  int64  \n",
      " 5   Estados_civil           43400 non-null  object \n",
      " 6   Tipo_trabajo            43400 non-null  object \n",
      " 7   Zona_residencia         43400 non-null  object \n",
      " 8   Promedio_nivel_glucosa  43400 non-null  float64\n",
      " 9   IMC                     41938 non-null  float64\n",
      " 10  Flag_fumador            30108 non-null  object \n",
      " 11  Ataque_cardiaco         43400 non-null  int64  \n",
      "dtypes: float64(3), int64(4), object(5)\n",
      "memory usage: 4.0+ MB\n"
     ]
    }
   ],
   "execution_count": 5
  },
  {
   "cell_type": "markdown",
   "source": [
    "Solo las columnas \"IMC\" y \"Flag_fumador\" tienen valores nulos."
   ],
   "metadata": {
    "id": "iCkyD5pOugYI"
   }
  },
  {
   "cell_type": "markdown",
   "source": [
    "*Only the \"BMI\" and \"Flag_fumador\" columns have null values.*"
   ],
   "metadata": {
    "id": "6I1Bi0XEu0Tj"
   }
  },
  {
   "cell_type": "markdown",
   "source": [
    "## 2.1. Análisis de valores vacíos / *Analysis of null values*"
   ],
   "metadata": {
    "id": "I6oOkNq-TkwL"
   }
  },
  {
   "cell_type": "code",
   "source": [
    "#Valores vacíos\n",
    "df.isna().sum()"
   ],
   "metadata": {
    "colab": {
     "base_uri": "https://localhost:8080/",
     "height": 429
    },
    "id": "rczMUoZv0D7g",
    "outputId": "3de350bb-0bce-4990-c79d-636e1a26bc4d",
    "ExecuteTime": {
     "end_time": "2025-07-20T00:09:23.625720Z",
     "start_time": "2025-07-20T00:09:23.613693Z"
    }
   },
   "outputs": [
    {
     "data": {
      "text/plain": [
       "ID                            0\n",
       "Genero                        0\n",
       "Edad                          0\n",
       "Flag_hipertension             0\n",
       "Flag_problem_cardiaco         0\n",
       "Estados_civil                 0\n",
       "Tipo_trabajo                  0\n",
       "Zona_residencia               0\n",
       "Promedio_nivel_glucosa        0\n",
       "IMC                        1462\n",
       "Flag_fumador              13292\n",
       "Ataque_cardiaco               0\n",
       "dtype: int64"
      ]
     },
     "execution_count": 6,
     "metadata": {},
     "output_type": "execute_result"
    }
   ],
   "execution_count": 6
  },
  {
   "cell_type": "markdown",
   "source": [
    "Existen 7 variables numéricas y 4 variables categóricas. Adicionalmente observamos que la variable Flag_fumador tiene más de 13000 valores nulos, por lo cual es necesario realizar el gráfico de datos nulos."
   ],
   "metadata": {
    "id": "sww57aenAN4Q"
   }
  },
  {
   "cell_type": "markdown",
   "source": [
    "*There are 7 numerical variables and 4 categorical variables. Additionally, we observe that the variable Flag_fumador has more than 13000 null values, so it is necessary to generate a missing data plot.*"
   ],
   "metadata": {
    "id": "0Npq55l0vqcg"
   }
  },
  {
   "cell_type": "code",
   "source": [
    "#Valores vacíos\n",
    "df.isna().sum() / 43400"
   ],
   "metadata": {
    "id": "bVfg5WoXRfS7",
    "colab": {
     "base_uri": "https://localhost:8080/",
     "height": 429
    },
    "outputId": "30af0666-8c65-4a9f-ce48-fb669a02e591",
    "ExecuteTime": {
     "end_time": "2025-07-20T00:09:23.733053Z",
     "start_time": "2025-07-20T00:09:23.718751Z"
    }
   },
   "outputs": [
    {
     "data": {
      "text/plain": [
       "ID                        0.000000\n",
       "Genero                    0.000000\n",
       "Edad                      0.000000\n",
       "Flag_hipertension         0.000000\n",
       "Flag_problem_cardiaco     0.000000\n",
       "Estados_civil             0.000000\n",
       "Tipo_trabajo              0.000000\n",
       "Zona_residencia           0.000000\n",
       "Promedio_nivel_glucosa    0.000000\n",
       "IMC                       0.033687\n",
       "Flag_fumador              0.306267\n",
       "Ataque_cardiaco           0.000000\n",
       "dtype: float64"
      ]
     },
     "execution_count": 7,
     "metadata": {},
     "output_type": "execute_result"
    }
   ],
   "execution_count": 7
  },
  {
   "cell_type": "markdown",
   "source": [
    "Se recomienda quitar la variable flag_fumador (mas de 30% de valores nulos) e imputar para IMC."
   ],
   "metadata": {
    "id": "hn56NZ8CZIRF"
   }
  },
  {
   "cell_type": "markdown",
   "source": [
    "*It is recommended to remove the Flag_fumador variable (more than 30% missing values) and impute for IMC.*"
   ],
   "metadata": {
    "id": "yMoWbS9oY0_g"
   }
  },
  {
   "cell_type": "code",
   "source": [
    "#Relación de valores vacíos\n",
    "msno.matrix(df, figsize = (20, 4))"
   ],
   "metadata": {
    "id": "eBam4b2bRfOB",
    "colab": {
     "base_uri": "https://localhost:8080/",
     "height": 500
    },
    "outputId": "727bf8e4-7513-4610-e66e-901b4ca6e3d5",
    "ExecuteTime": {
     "end_time": "2025-07-20T00:09:24.156596Z",
     "start_time": "2025-07-20T00:09:23.862013Z"
    }
   },
   "outputs": [
    {
     "data": {
      "text/plain": [
       "<Axes: >"
      ]
     },
     "execution_count": 8,
     "metadata": {},
     "output_type": "execute_result"
    },
    {
     "data": {
      "text/plain": [
       "<Figure size 2000x400 with 2 Axes>"
      ],
      "image/png": "[encoded data removed]"
     },
     "metadata": {},
     "output_type": "display_data"
    }
   ],
   "execution_count": 8
  },
  {
   "cell_type": "markdown",
   "source": [
    "La variable Flag_fumador tiene una gran cantidad de nulos siendo el 30% del total de valores, por lo que el análisis de esta variable podría ser inexacta. En el caso de IMC el porcentaje de valores nulos no tendría mucho impacto en el análisis."
   ],
   "metadata": {
    "id": "FzWAfi2MARGr"
   }
  },
  {
   "cell_type": "markdown",
   "source": [
    "*The Flag_fumador variable has a large number of missing values, 30% of the total, which could make its analysis inaccurate. In the case of IMC, the percentage of missing values would not have much impact on the analysis.*"
   ],
   "metadata": {
    "id": "g4Xiqbw-aa8L"
   }
  },
  {
   "cell_type": "markdown",
   "source": [
    "## 2.2. Distribución de la variable objetivo / *Target variable distribution*"
   ],
   "metadata": {
    "id": "eHWRsBJpVTHC"
   }
  },
  {
   "cell_type": "code",
   "source": [
    "df['Ataque_cardiaco'].value_counts(1)"
   ],
   "metadata": {
    "id": "_AFMW6njRfLy",
    "colab": {
     "base_uri": "https://localhost:8080/",
     "height": 178
    },
    "outputId": "c8475379-1f22-4702-ab2f-cd450309cd0b",
    "ExecuteTime": {
     "end_time": "2025-07-20T00:09:24.225720Z",
     "start_time": "2025-07-20T00:09:24.213220Z"
    }
   },
   "outputs": [
    {
     "data": {
      "text/plain": [
       "Ataque_cardiaco\n",
       "0    0.981959\n",
       "1    0.018041\n",
       "Name: proportion, dtype: float64"
      ]
     },
     "execution_count": 9,
     "metadata": {},
     "output_type": "execute_result"
    }
   ],
   "execution_count": 9
  },
  {
   "cell_type": "markdown",
   "source": [
    "Aproximadamente el 1.8% de pacientes ha sufrido un ataque cardiaco."
   ],
   "metadata": {
    "id": "qP1QzqyvAouq"
   }
  },
  {
   "cell_type": "markdown",
   "source": [
    "*Approximately 1.8% of patients have had a heart attack.*"
   ],
   "metadata": {
    "id": "NmVFvy75mlBM"
   }
  },
  {
   "cell_type": "markdown",
   "source": [
    "## 2.3. Análisis de variables numéricas / *Analysis of numeric variables*"
   ],
   "metadata": {
    "id": "kR4Lq9sBWWJ9"
   }
  },
  {
   "cell_type": "code",
   "source": [
    "df.describe()"
   ],
   "metadata": {
    "id": "J-oMBK0FRfJr",
    "colab": {
     "base_uri": "https://localhost:8080/",
     "height": 300
    },
    "outputId": "e46647ae-7ad1-4825-802d-d3ae078c6235",
    "ExecuteTime": {
     "end_time": "2025-07-20T00:09:24.454763Z",
     "start_time": "2025-07-20T00:09:24.399229Z"
    }
   },
   "outputs": [
    {
     "data": {
      "text/plain": [
       "                 ID          Edad  Flag_hipertension  Flag_problem_cardiaco  \\\n",
       "count  43400.000000  43400.000000       43400.000000           43400.000000   \n",
       "mean   36326.142350     42.217894           0.093571               0.047512   \n",
       "std    21072.134879     22.519649           0.291235               0.212733   \n",
       "min        1.000000      0.080000           0.000000               0.000000   \n",
       "25%    18038.500000     24.000000           0.000000               0.000000   \n",
       "50%    36351.500000     44.000000           0.000000               0.000000   \n",
       "75%    54514.250000     60.000000           0.000000               0.000000   \n",
       "max    72943.000000     82.000000           1.000000               1.000000   \n",
       "\n",
       "       Promedio_nivel_glucosa           IMC  Ataque_cardiaco  \n",
       "count            43400.000000  41938.000000     43400.000000  \n",
       "mean               104.482750     28.605038         0.018041  \n",
       "std                 43.111751      7.770020         0.133103  \n",
       "min                 55.000000     10.100000         0.000000  \n",
       "25%                 77.540000     23.200000         0.000000  \n",
       "50%                 91.580000     27.700000         0.000000  \n",
       "75%                112.070000     32.900000         0.000000  \n",
       "max                291.050000     97.600000         1.000000  "
      ],
      "text/html": [
       "<div>\n",
       "<style scoped>\n",
       "    .dataframe tbody tr th:only-of-type {\n",
       "        vertical-align: middle;\n",
       "    }\n",
       "\n",
       "    .dataframe tbody tr th {\n",
       "        vertical-align: top;\n",
       "    }\n",
       "\n",
       "    .dataframe thead th {\n",
       "        text-align: right;\n",
       "    }\n",
       "</style>\n",
       "<table border=\"1\" class=\"dataframe\">\n",
       "  <thead>\n",
       "    <tr style=\"text-align: right;\">\n",
       "      <th></th>\n",
       "      <th>ID</th>\n",
       "      <th>Edad</th>\n",
       "      <th>Flag_hipertension</th>\n",
       "      <th>Flag_problem_cardiaco</th>\n",
       "      <th>Promedio_nivel_glucosa</th>\n",
       "      <th>IMC</th>\n",
       "      <th>Ataque_cardiaco</th>\n",
       "    </tr>\n",
       "  </thead>\n",
       "  <tbody>\n",
       "    <tr>\n",
       "      <th>count</th>\n",
       "      <td>43400.000000</td>\n",
       "      <td>43400.000000</td>\n",
       "      <td>43400.000000</td>\n",
       "      <td>43400.000000</td>\n",
       "      <td>43400.000000</td>\n",
       "      <td>41938.000000</td>\n",
       "      <td>43400.000000</td>\n",
       "    </tr>\n",
       "    <tr>\n",
       "      <th>mean</th>\n",
       "      <td>36326.142350</td>\n",
       "      <td>42.217894</td>\n",
       "      <td>0.093571</td>\n",
       "      <td>0.047512</td>\n",
       "      <td>104.482750</td>\n",
       "      <td>28.605038</td>\n",
       "      <td>0.018041</td>\n",
       "    </tr>\n",
       "    <tr>\n",
       "      <th>std</th>\n",
       "      <td>21072.134879</td>\n",
       "      <td>22.519649</td>\n",
       "      <td>0.291235</td>\n",
       "      <td>0.212733</td>\n",
       "      <td>43.111751</td>\n",
       "      <td>7.770020</td>\n",
       "      <td>0.133103</td>\n",
       "    </tr>\n",
       "    <tr>\n",
       "      <th>min</th>\n",
       "      <td>1.000000</td>\n",
       "      <td>0.080000</td>\n",
       "      <td>0.000000</td>\n",
       "      <td>0.000000</td>\n",
       "      <td>55.000000</td>\n",
       "      <td>10.100000</td>\n",
       "      <td>0.000000</td>\n",
       "    </tr>\n",
       "    <tr>\n",
       "      <th>25%</th>\n",
       "      <td>18038.500000</td>\n",
       "      <td>24.000000</td>\n",
       "      <td>0.000000</td>\n",
       "      <td>0.000000</td>\n",
       "      <td>77.540000</td>\n",
       "      <td>23.200000</td>\n",
       "      <td>0.000000</td>\n",
       "    </tr>\n",
       "    <tr>\n",
       "      <th>50%</th>\n",
       "      <td>36351.500000</td>\n",
       "      <td>44.000000</td>\n",
       "      <td>0.000000</td>\n",
       "      <td>0.000000</td>\n",
       "      <td>91.580000</td>\n",
       "      <td>27.700000</td>\n",
       "      <td>0.000000</td>\n",
       "    </tr>\n",
       "    <tr>\n",
       "      <th>75%</th>\n",
       "      <td>54514.250000</td>\n",
       "      <td>60.000000</td>\n",
       "      <td>0.000000</td>\n",
       "      <td>0.000000</td>\n",
       "      <td>112.070000</td>\n",
       "      <td>32.900000</td>\n",
       "      <td>0.000000</td>\n",
       "    </tr>\n",
       "    <tr>\n",
       "      <th>max</th>\n",
       "      <td>72943.000000</td>\n",
       "      <td>82.000000</td>\n",
       "      <td>1.000000</td>\n",
       "      <td>1.000000</td>\n",
       "      <td>291.050000</td>\n",
       "      <td>97.600000</td>\n",
       "      <td>1.000000</td>\n",
       "    </tr>\n",
       "  </tbody>\n",
       "</table>\n",
       "</div>"
      ]
     },
     "execution_count": 10,
     "metadata": {},
     "output_type": "execute_result"
    }
   ],
   "execution_count": 10
  },
  {
   "cell_type": "markdown",
   "source": [
    "*   Edad: Con una media de 42.2 años, los datos presentan una dispersión moderada, la media se aproxima a la mediana y es mayor a la desviación.\n",
    "*   Promedio_nivel_glucosa: Con una media de 104.48, los datos presentan una dispersión moderada.\n",
    "*   IMC: Con una media de 28.6, los datos presentan una dispersión moderada, sin embargo se debe considerar que existen valores nulos.\n",
    "\n",
    "No hay predominancia de outliers."
   ],
   "metadata": {
    "id": "48xNuXI9BHoO"
   }
  },
  {
   "cell_type": "markdown",
   "source": [
    "* *Age: With a mean of 42.2 years, the data shows moderate dispersion, the mean is close to the median and greater than the standard deviation.*\n",
    "* *Average Glucose Level: With a mean of 104.48, the data shows moderate dispersion.*\n",
    "* *BMI: With a mean of 28.6, the data shows moderate dispersion, however, it is important to note that there are missing values.*\n",
    "\n",
    "*There is no predominance of outliers.*"
   ],
   "metadata": {
    "id": "E-hd7dxZoDf1"
   }
  },
  {
   "cell_type": "code",
   "source": [
    "#Histograma de las variables Edad, glucosa y IMC\n",
    "df[['Edad','Promedio_nivel_glucosa','IMC']].hist(bins=20, figsize=(15,8))\n",
    "plt.show()"
   ],
   "metadata": {
    "id": "AB6OGZ2eRfHC",
    "colab": {
     "base_uri": "https://localhost:8080/",
     "height": 699
    },
    "outputId": "ed4b025c-2c02-4ae2-b287-bdd8b235d714",
    "ExecuteTime": {
     "end_time": "2025-07-20T00:09:24.971415Z",
     "start_time": "2025-07-20T00:09:24.575341Z"
    }
   },
   "outputs": [
    {
     "data": {
      "text/plain": [
       "<Figure size 1500x800 with 4 Axes>"
      ],
      "image/png": "[encoded data removed]"
     },
     "metadata": {},
     "output_type": "display_data"
    }
   ],
   "execution_count": 11
  },
  {
   "cell_type": "code",
   "source": [
    "#Análisis multivariable\n",
    "sns.pairplot(df[['Edad','Promedio_nivel_glucosa','IMC','Ataque_cardiaco']], hue='Ataque_cardiaco')\n",
    "plt.show()"
   ],
   "metadata": {
    "id": "RkpYNClDRfEp",
    "colab": {
     "base_uri": "https://localhost:8080/",
     "height": 758
    },
    "outputId": "598761d3-0dd2-4fca-fd49-27f6a7c34318",
    "ExecuteTime": {
     "end_time": "2025-07-20T00:09:39.122477Z",
     "start_time": "2025-07-20T00:09:25.023343Z"
    }
   },
   "outputs": [
    {
     "data": {
      "text/plain": [
       "<Figure size 865.486x750 with 12 Axes>"
      ],
      "image/png": "[encoded data removed]"
     },
     "metadata": {},
     "output_type": "display_data"
    }
   ],
   "execution_count": 12
  },
  {
   "cell_type": "markdown",
   "source": [
    "Se puede notar que la edad puede estar relacionada con los ataques cardiacos, sugiriendo que a mayor edad, mayor posibilidad de sufrir un infarto."
   ],
   "metadata": {
    "id": "YrNEnZdIEjAj"
   }
  },
  {
   "cell_type": "markdown",
   "source": [
    "*It can be noticed that age may be related to heart attacks, suggesting that if a person is older there is more possibility of experiencing a heart attack.*"
   ],
   "metadata": {
    "id": "gHHtCLISgzFe"
   }
  },
  {
   "cell_type": "markdown",
   "source": [
    "### 2.3.1. Correlaciones / *Correlations*"
   ],
   "metadata": {
    "id": "cgpufl91iCQd"
   }
  },
  {
   "cell_type": "code",
   "source": [
    "corr = df[['Edad','Promedio_nivel_glucosa','IMC','Ataque_cardiaco','Flag_hipertension','Flag_problem_cardiaco']].corr()\n",
    "plt.figure(figsize=(10,6))\n",
    "sns.heatmap(corr, annot=True, cmap='coolwarm')"
   ],
   "metadata": {
    "colab": {
     "base_uri": "https://localhost:8080/",
     "height": 697
    },
    "id": "xprfdKk_FM9b",
    "outputId": "a59557f6-941c-4a77-df18-3b7f68711a23",
    "ExecuteTime": {
     "end_time": "2025-07-20T00:09:39.368562Z",
     "start_time": "2025-07-20T00:09:39.147766Z"
    }
   },
   "outputs": [
    {
     "data": {
      "text/plain": [
       "<Axes: >"
      ]
     },
     "execution_count": 13,
     "metadata": {},
     "output_type": "execute_result"
    },
    {
     "data": {
      "text/plain": [
       "<Figure size 1000x600 with 2 Axes>"
      ],
      "image/png": "[encoded data removed]"
     },
     "metadata": {},
     "output_type": "display_data"
    }
   ],
   "execution_count": 13
  },
  {
   "cell_type": "markdown",
   "source": [
    "Observamos que la correlación entre la variable Ataque_cardiaco y Edad sugiere que a mayor edad mayor posibilidad de sufrir un ataque cardiaco, además, las variables restantes más relevantes son en el siguiente orden: Flag_problema_caradiaco, Promedio_nivel_glucosa, Flag_hipertension e IMC."
   ],
   "metadata": {
    "id": "QmUSJhGLFj1k"
   }
  },
  {
   "cell_type": "markdown",
   "source": [
    "*It is observed that the correlation between the Heart_attack variable and Age suggests that if a person is older there is more possibility of experiencing a heart attack. Additionally, the next most relevant variables in order are: Heart_disease_flag, Average_glucose_level, Hypertension_flag, and BMI.*"
   ],
   "metadata": {
    "id": "DwAY_7aWiN0s"
   }
  },
  {
   "cell_type": "markdown",
   "source": [
    "## 2.4. Análisis de variables cualitativas / *Analysis of categorical variables*"
   ],
   "metadata": {
    "id": "xsQQ29LraFn7"
   }
  },
  {
   "cell_type": "code",
   "source": [
    "df.select_dtypes(include='object').head(2)"
   ],
   "metadata": {
    "id": "xwnyQYf0Re8q",
    "colab": {
     "base_uri": "https://localhost:8080/",
     "height": 112
    },
    "outputId": "1e195962-64d1-430e-b62f-b1b1a8d36df8",
    "ExecuteTime": {
     "end_time": "2025-07-20T00:09:39.395807Z",
     "start_time": "2025-07-20T00:09:39.387557Z"
    }
   },
   "outputs": [
    {
     "data": {
      "text/plain": [
       "   Genero Estados_civil     Tipo_trabajo Zona_residencia Flag_fumador\n",
       "0  Hombre            No     cuidar_ninos           Rural          NaN\n",
       "1  Hombre            Si  Empresa_privada          Urbano   Nunca_fuma"
      ],
      "text/html": [
       "<div>\n",
       "<style scoped>\n",
       "    .dataframe tbody tr th:only-of-type {\n",
       "        vertical-align: middle;\n",
       "    }\n",
       "\n",
       "    .dataframe tbody tr th {\n",
       "        vertical-align: top;\n",
       "    }\n",
       "\n",
       "    .dataframe thead th {\n",
       "        text-align: right;\n",
       "    }\n",
       "</style>\n",
       "<table border=\"1\" class=\"dataframe\">\n",
       "  <thead>\n",
       "    <tr style=\"text-align: right;\">\n",
       "      <th></th>\n",
       "      <th>Genero</th>\n",
       "      <th>Estados_civil</th>\n",
       "      <th>Tipo_trabajo</th>\n",
       "      <th>Zona_residencia</th>\n",
       "      <th>Flag_fumador</th>\n",
       "    </tr>\n",
       "  </thead>\n",
       "  <tbody>\n",
       "    <tr>\n",
       "      <th>0</th>\n",
       "      <td>Hombre</td>\n",
       "      <td>No</td>\n",
       "      <td>cuidar_ninos</td>\n",
       "      <td>Rural</td>\n",
       "      <td>NaN</td>\n",
       "    </tr>\n",
       "    <tr>\n",
       "      <th>1</th>\n",
       "      <td>Hombre</td>\n",
       "      <td>Si</td>\n",
       "      <td>Empresa_privada</td>\n",
       "      <td>Urbano</td>\n",
       "      <td>Nunca_fuma</td>\n",
       "    </tr>\n",
       "  </tbody>\n",
       "</table>\n",
       "</div>"
      ]
     },
     "execution_count": 14,
     "metadata": {},
     "output_type": "execute_result"
    }
   ],
   "execution_count": 14
  },
  {
   "cell_type": "markdown",
   "source": [
    "### 2.4.1. Género / *Gender*"
   ],
   "metadata": {
    "id": "RjJ2fpx_c4wi"
   }
  },
  {
   "cell_type": "code",
   "source": [
    "#Distribución de la variable\n",
    "df['Genero'].value_counts(1)"
   ],
   "metadata": {
    "id": "8DRaUdLvRe6y",
    "colab": {
     "base_uri": "https://localhost:8080/",
     "height": 209
    },
    "outputId": "b81070d4-6565-43cf-9b03-14b8edc3e049",
    "ExecuteTime": {
     "end_time": "2025-07-20T00:09:39.462535Z",
     "start_time": "2025-07-20T00:09:39.454231Z"
    }
   },
   "outputs": [
    {
     "data": {
      "text/plain": [
       "Genero\n",
       "Mujer     0.591359\n",
       "Hombre    0.408387\n",
       "Other     0.000253\n",
       "Name: proportion, dtype: float64"
      ]
     },
     "execution_count": 15,
     "metadata": {},
     "output_type": "execute_result"
    }
   ],
   "execution_count": 15
  },
  {
   "cell_type": "markdown",
   "source": [
    "El 59% de pacientes es de género femenino y el 40% es de género masculino."
   ],
   "metadata": {
    "id": "bU3s4ZqiJK4s"
   }
  },
  {
   "cell_type": "markdown",
   "source": [
    "*59% of the patients are female, and 40% are male.*"
   ],
   "metadata": {
    "id": "Dilx__tmjcCd"
   }
  },
  {
   "cell_type": "code",
   "source": [
    "#Ataque cardiaco por Género\n",
    "df[['Genero','Ataque_cardiaco']].groupby(by='Genero').agg(['count','sum','mean'])"
   ],
   "metadata": {
    "id": "jmqoh2uvdS0b",
    "colab": {
     "base_uri": "https://localhost:8080/",
     "height": 206
    },
    "outputId": "a28404ff-6130-438f-e066-5250275732a9",
    "ExecuteTime": {
     "end_time": "2025-07-20T00:09:39.584440Z",
     "start_time": "2025-07-20T00:09:39.569921Z"
    }
   },
   "outputs": [
    {
     "data": {
      "text/plain": [
       "       Ataque_cardiaco               \n",
       "                 count  sum      mean\n",
       "Genero                               \n",
       "Hombre           17724  352  0.019860\n",
       "Mujer            25665  431  0.016793\n",
       "Other               11    0  0.000000"
      ],
      "text/html": [
       "<div>\n",
       "<style scoped>\n",
       "    .dataframe tbody tr th:only-of-type {\n",
       "        vertical-align: middle;\n",
       "    }\n",
       "\n",
       "    .dataframe tbody tr th {\n",
       "        vertical-align: top;\n",
       "    }\n",
       "\n",
       "    .dataframe thead tr th {\n",
       "        text-align: left;\n",
       "    }\n",
       "\n",
       "    .dataframe thead tr:last-of-type th {\n",
       "        text-align: right;\n",
       "    }\n",
       "</style>\n",
       "<table border=\"1\" class=\"dataframe\">\n",
       "  <thead>\n",
       "    <tr>\n",
       "      <th></th>\n",
       "      <th colspan=\"3\" halign=\"left\">Ataque_cardiaco</th>\n",
       "    </tr>\n",
       "    <tr>\n",
       "      <th></th>\n",
       "      <th>count</th>\n",
       "      <th>sum</th>\n",
       "      <th>mean</th>\n",
       "    </tr>\n",
       "    <tr>\n",
       "      <th>Genero</th>\n",
       "      <th></th>\n",
       "      <th></th>\n",
       "      <th></th>\n",
       "    </tr>\n",
       "  </thead>\n",
       "  <tbody>\n",
       "    <tr>\n",
       "      <th>Hombre</th>\n",
       "      <td>17724</td>\n",
       "      <td>352</td>\n",
       "      <td>0.019860</td>\n",
       "    </tr>\n",
       "    <tr>\n",
       "      <th>Mujer</th>\n",
       "      <td>25665</td>\n",
       "      <td>431</td>\n",
       "      <td>0.016793</td>\n",
       "    </tr>\n",
       "    <tr>\n",
       "      <th>Other</th>\n",
       "      <td>11</td>\n",
       "      <td>0</td>\n",
       "      <td>0.000000</td>\n",
       "    </tr>\n",
       "  </tbody>\n",
       "</table>\n",
       "</div>"
      ]
     },
     "execution_count": 16,
     "metadata": {},
     "output_type": "execute_result"
    }
   ],
   "execution_count": 16
  },
  {
   "cell_type": "markdown",
   "source": [
    "La variable no tiene impacto en la proporción de la variable target ya que el ratio de hombres y mujeres que sufren de infartos es cercano al 1.8%."
   ],
   "metadata": {
    "id": "dc0yohe8JMcv"
   }
  },
  {
   "cell_type": "markdown",
   "source": [
    "*The variable has no impact on the proportion of the target variable, the ratio of men and women who experience heart attacks is close to 1.8%.*"
   ],
   "metadata": {
    "id": "ykqZneltjkEV"
   }
  },
  {
   "cell_type": "markdown",
   "source": [
    "### 2.4.2. Tipo de trabajo / *Type of work*"
   ],
   "metadata": {
    "id": "VBX4v0WUc-3V"
   }
  },
  {
   "cell_type": "code",
   "source": [
    "#Distribución de la variable\n",
    "df['Tipo_trabajo'].value_counts(1)"
   ],
   "metadata": {
    "id": "Ec218AmvRe3B",
    "colab": {
     "base_uri": "https://localhost:8080/",
     "height": 272
    },
    "outputId": "8f3984e9-9992-46dd-fa4b-f9e078172ade",
    "ExecuteTime": {
     "end_time": "2025-07-20T00:09:39.747464Z",
     "start_time": "2025-07-20T00:09:39.737943Z"
    }
   },
   "outputs": [
    {
     "data": {
      "text/plain": [
       "Tipo_trabajo\n",
       "Empresa_privada    0.572212\n",
       "Emprendedor        0.156521\n",
       "cuidar_ninos       0.141843\n",
       "En_gobierno        0.125346\n",
       "Nunca_trabajo      0.004078\n",
       "Name: proportion, dtype: float64"
      ]
     },
     "execution_count": 17,
     "metadata": {},
     "output_type": "execute_result"
    }
   ],
   "execution_count": 17
  },
  {
   "cell_type": "markdown",
   "source": [
    "El 57% de pacientes trabajan en empresas privadas, siendo esta la mayor proporción."
   ],
   "metadata": {
    "id": "uLuiyZy9LNaX"
   }
  },
  {
   "cell_type": "markdown",
   "source": [
    "*57% of patients work in private companies, this is the largest proportion.*"
   ],
   "metadata": {
    "id": "HFz002f-9vt5"
   }
  },
  {
   "cell_type": "code",
   "source": [
    "#Ataque cardiaco por Tipo trabajo\n",
    "df[['Tipo_trabajo','Ataque_cardiaco']].groupby(by='Tipo_trabajo').agg(['count','sum','mean'])"
   ],
   "metadata": {
    "id": "vArapQn0enu7",
    "colab": {
     "base_uri": "https://localhost:8080/",
     "height": 269
    },
    "outputId": "de7bb988-f8e2-44ee-c803-f87cdc6c8ee5",
    "ExecuteTime": {
     "end_time": "2025-07-20T00:09:39.962571Z",
     "start_time": "2025-07-20T00:09:39.946551Z"
    }
   },
   "outputs": [
    {
     "data": {
      "text/plain": [
       "                Ataque_cardiaco               \n",
       "                          count  sum      mean\n",
       "Tipo_trabajo                                  \n",
       "Emprendedor                6793  251  0.036950\n",
       "Empresa_privada           24834  441  0.017758\n",
       "En_gobierno                5440   89  0.016360\n",
       "Nunca_trabajo               177    0  0.000000\n",
       "cuidar_ninos               6156    2  0.000325"
      ],
      "text/html": [
       "<div>\n",
       "<style scoped>\n",
       "    .dataframe tbody tr th:only-of-type {\n",
       "        vertical-align: middle;\n",
       "    }\n",
       "\n",
       "    .dataframe tbody tr th {\n",
       "        vertical-align: top;\n",
       "    }\n",
       "\n",
       "    .dataframe thead tr th {\n",
       "        text-align: left;\n",
       "    }\n",
       "\n",
       "    .dataframe thead tr:last-of-type th {\n",
       "        text-align: right;\n",
       "    }\n",
       "</style>\n",
       "<table border=\"1\" class=\"dataframe\">\n",
       "  <thead>\n",
       "    <tr>\n",
       "      <th></th>\n",
       "      <th colspan=\"3\" halign=\"left\">Ataque_cardiaco</th>\n",
       "    </tr>\n",
       "    <tr>\n",
       "      <th></th>\n",
       "      <th>count</th>\n",
       "      <th>sum</th>\n",
       "      <th>mean</th>\n",
       "    </tr>\n",
       "    <tr>\n",
       "      <th>Tipo_trabajo</th>\n",
       "      <th></th>\n",
       "      <th></th>\n",
       "      <th></th>\n",
       "    </tr>\n",
       "  </thead>\n",
       "  <tbody>\n",
       "    <tr>\n",
       "      <th>Emprendedor</th>\n",
       "      <td>6793</td>\n",
       "      <td>251</td>\n",
       "      <td>0.036950</td>\n",
       "    </tr>\n",
       "    <tr>\n",
       "      <th>Empresa_privada</th>\n",
       "      <td>24834</td>\n",
       "      <td>441</td>\n",
       "      <td>0.017758</td>\n",
       "    </tr>\n",
       "    <tr>\n",
       "      <th>En_gobierno</th>\n",
       "      <td>5440</td>\n",
       "      <td>89</td>\n",
       "      <td>0.016360</td>\n",
       "    </tr>\n",
       "    <tr>\n",
       "      <th>Nunca_trabajo</th>\n",
       "      <td>177</td>\n",
       "      <td>0</td>\n",
       "      <td>0.000000</td>\n",
       "    </tr>\n",
       "    <tr>\n",
       "      <th>cuidar_ninos</th>\n",
       "      <td>6156</td>\n",
       "      <td>2</td>\n",
       "      <td>0.000325</td>\n",
       "    </tr>\n",
       "  </tbody>\n",
       "</table>\n",
       "</div>"
      ]
     },
     "execution_count": 18,
     "metadata": {},
     "output_type": "execute_result"
    }
   ],
   "execution_count": 18
  },
  {
   "cell_type": "markdown",
   "source": [
    "Los pacientes que son emprendedores tienen una proporción de ataques cardiacos muy alta respecto al ratio base, superando dicha cantidad por el doble."
   ],
   "metadata": {
    "id": "Rl6iS3SoL1Dp"
   }
  },
  {
   "cell_type": "markdown",
   "source": [
    "*Patients who are self-employed have a heart attack rate that is higher than the baseline ratio, exceeding it by more than double.*"
   ],
   "metadata": {
    "id": "bcekbFHD-FOH"
   }
  },
  {
   "cell_type": "markdown",
   "source": [
    "### 2.4.3. Zona de residencia / *Residence area*"
   ],
   "metadata": {
    "id": "nX7HtXN4dCuS"
   }
  },
  {
   "cell_type": "code",
   "source": [
    "#Distribución de la variable\n",
    "df['Zona_residencia'].value_counts(1)"
   ],
   "metadata": {
    "id": "V61Wnl_QRe1P",
    "colab": {
     "base_uri": "https://localhost:8080/",
     "height": 178
    },
    "outputId": "7b1f98c4-5223-4afa-e29d-f484885c4d74",
    "ExecuteTime": {
     "end_time": "2025-07-20T00:09:40.165856Z",
     "start_time": "2025-07-20T00:09:40.155854Z"
    }
   },
   "outputs": [
    {
     "data": {
      "text/plain": [
       "Zona_residencia\n",
       "Urbano    0.50129\n",
       "Rural     0.49871\n",
       "Name: proportion, dtype: float64"
      ]
     },
     "execution_count": 19,
     "metadata": {},
     "output_type": "execute_result"
    }
   ],
   "execution_count": 19
  },
  {
   "cell_type": "markdown",
   "source": [
    "La distribución de las personas que viven en zonas rurales y urbanas es casi la misma."
   ],
   "metadata": {
    "id": "m19RkSRSMYl9"
   }
  },
  {
   "cell_type": "markdown",
   "source": [
    "*There is a nearly equal distribution of people living in rural and urban areas.*"
   ],
   "metadata": {
    "id": "NpLEk92lELL5"
   }
  },
  {
   "cell_type": "code",
   "source": [
    "#Ataque cardiaco por Zona residencia\n",
    "df[['Zona_residencia','Ataque_cardiaco']].groupby(by='Zona_residencia').agg(['count','sum','mean'])"
   ],
   "metadata": {
    "id": "Q_EEUbg-fHeU",
    "colab": {
     "base_uri": "https://localhost:8080/",
     "height": 175
    },
    "outputId": "9e329c6b-cc87-4294-b128-f55b6d2d64b4",
    "ExecuteTime": {
     "end_time": "2025-07-20T00:09:40.522741Z",
     "start_time": "2025-07-20T00:09:40.507156Z"
    }
   },
   "outputs": [
    {
     "data": {
      "text/plain": [
       "                Ataque_cardiaco               \n",
       "                          count  sum      mean\n",
       "Zona_residencia                               \n",
       "Rural                     21644  384  0.017742\n",
       "Urbano                    21756  399  0.018340"
      ],
      "text/html": [
       "<div>\n",
       "<style scoped>\n",
       "    .dataframe tbody tr th:only-of-type {\n",
       "        vertical-align: middle;\n",
       "    }\n",
       "\n",
       "    .dataframe tbody tr th {\n",
       "        vertical-align: top;\n",
       "    }\n",
       "\n",
       "    .dataframe thead tr th {\n",
       "        text-align: left;\n",
       "    }\n",
       "\n",
       "    .dataframe thead tr:last-of-type th {\n",
       "        text-align: right;\n",
       "    }\n",
       "</style>\n",
       "<table border=\"1\" class=\"dataframe\">\n",
       "  <thead>\n",
       "    <tr>\n",
       "      <th></th>\n",
       "      <th colspan=\"3\" halign=\"left\">Ataque_cardiaco</th>\n",
       "    </tr>\n",
       "    <tr>\n",
       "      <th></th>\n",
       "      <th>count</th>\n",
       "      <th>sum</th>\n",
       "      <th>mean</th>\n",
       "    </tr>\n",
       "    <tr>\n",
       "      <th>Zona_residencia</th>\n",
       "      <th></th>\n",
       "      <th></th>\n",
       "      <th></th>\n",
       "    </tr>\n",
       "  </thead>\n",
       "  <tbody>\n",
       "    <tr>\n",
       "      <th>Rural</th>\n",
       "      <td>21644</td>\n",
       "      <td>384</td>\n",
       "      <td>0.017742</td>\n",
       "    </tr>\n",
       "    <tr>\n",
       "      <th>Urbano</th>\n",
       "      <td>21756</td>\n",
       "      <td>399</td>\n",
       "      <td>0.018340</td>\n",
       "    </tr>\n",
       "  </tbody>\n",
       "</table>\n",
       "</div>"
      ]
     },
     "execution_count": 20,
     "metadata": {},
     "output_type": "execute_result"
    }
   ],
   "execution_count": 20
  },
  {
   "cell_type": "markdown",
   "source": [
    "Validamos que el ratio de infartos es similar para los pacientes que viven tanto en zonas rurales como urbanas, por lo que podemos afinar que esta no impacta en la variable target."
   ],
   "metadata": {
    "id": "0ejh9qk5MeTS"
   }
  },
  {
   "cell_type": "markdown",
   "source": [
    "*We confirm that the heart attack rate is similar for patients living in rural and urban areas, indicating that this variable does not have an impact on the target variable.*"
   ],
   "metadata": {
    "id": "u8rIwEEiiR6T"
   }
  },
  {
   "cell_type": "markdown",
   "source": [
    "### 2.4.4. Flag fumador / *Smoker flag*"
   ],
   "metadata": {
    "id": "YrJGQjY2dE0p"
   }
  },
  {
   "cell_type": "code",
   "source": [
    "#Distribución de la variable\n",
    "df['Flag_fumador'].value_counts(1,dropna=False)"
   ],
   "metadata": {
    "id": "_G5i81anRezZ",
    "colab": {
     "base_uri": "https://localhost:8080/",
     "height": 241
    },
    "outputId": "26f334db-fc4d-427e-afa4-4e4f99872952",
    "ExecuteTime": {
     "end_time": "2025-07-20T00:09:40.669143Z",
     "start_time": "2025-07-20T00:09:40.659541Z"
    }
   },
   "outputs": [
    {
     "data": {
      "text/plain": [
       "Flag_fumador\n",
       "Nunca_fuma      0.369885\n",
       "NaN             0.306267\n",
       "antes_fumaba    0.172650\n",
       "fumador         0.151198\n",
       "Name: proportion, dtype: float64"
      ]
     },
     "execution_count": 21,
     "metadata": {},
     "output_type": "execute_result"
    }
   ],
   "execution_count": 21
  },
  {
   "cell_type": "markdown",
   "source": [
    "No es variable representativa por presentar 30% de valores nulos."
   ],
   "metadata": {
    "id": "PxHKI3I6MwIZ"
   }
  },
  {
   "cell_type": "markdown",
   "source": [
    "*It is not a representative variable because it has 30% null values.*"
   ],
   "metadata": {
    "id": "tq1nRfQ0jgKX"
   }
  },
  {
   "cell_type": "code",
   "source": [
    "#Ataque cardiaco por Flag fumador\n",
    "df[['Flag_fumador','Ataque_cardiaco']].groupby(by='Flag_fumador').agg(['count','sum','mean'])"
   ],
   "metadata": {
    "id": "TRCtwtjERexC",
    "colab": {
     "base_uri": "https://localhost:8080/",
     "height": 206
    },
    "outputId": "b060b178-a440-4414-a424-26e174e59ea5",
    "ExecuteTime": {
     "end_time": "2025-07-20T00:09:40.786955Z",
     "start_time": "2025-07-20T00:09:40.770295Z"
    }
   },
   "outputs": [
    {
     "data": {
      "text/plain": [
       "             Ataque_cardiaco               \n",
       "                       count  sum      mean\n",
       "Flag_fumador                               \n",
       "Nunca_fuma             16053  284  0.017691\n",
       "antes_fumaba            7493  221  0.029494\n",
       "fumador                 6562  133  0.020268"
      ],
      "text/html": [
       "<div>\n",
       "<style scoped>\n",
       "    .dataframe tbody tr th:only-of-type {\n",
       "        vertical-align: middle;\n",
       "    }\n",
       "\n",
       "    .dataframe tbody tr th {\n",
       "        vertical-align: top;\n",
       "    }\n",
       "\n",
       "    .dataframe thead tr th {\n",
       "        text-align: left;\n",
       "    }\n",
       "\n",
       "    .dataframe thead tr:last-of-type th {\n",
       "        text-align: right;\n",
       "    }\n",
       "</style>\n",
       "<table border=\"1\" class=\"dataframe\">\n",
       "  <thead>\n",
       "    <tr>\n",
       "      <th></th>\n",
       "      <th colspan=\"3\" halign=\"left\">Ataque_cardiaco</th>\n",
       "    </tr>\n",
       "    <tr>\n",
       "      <th></th>\n",
       "      <th>count</th>\n",
       "      <th>sum</th>\n",
       "      <th>mean</th>\n",
       "    </tr>\n",
       "    <tr>\n",
       "      <th>Flag_fumador</th>\n",
       "      <th></th>\n",
       "      <th></th>\n",
       "      <th></th>\n",
       "    </tr>\n",
       "  </thead>\n",
       "  <tbody>\n",
       "    <tr>\n",
       "      <th>Nunca_fuma</th>\n",
       "      <td>16053</td>\n",
       "      <td>284</td>\n",
       "      <td>0.017691</td>\n",
       "    </tr>\n",
       "    <tr>\n",
       "      <th>antes_fumaba</th>\n",
       "      <td>7493</td>\n",
       "      <td>221</td>\n",
       "      <td>0.029494</td>\n",
       "    </tr>\n",
       "    <tr>\n",
       "      <th>fumador</th>\n",
       "      <td>6562</td>\n",
       "      <td>133</td>\n",
       "      <td>0.020268</td>\n",
       "    </tr>\n",
       "  </tbody>\n",
       "</table>\n",
       "</div>"
      ]
     },
     "execution_count": 22,
     "metadata": {},
     "output_type": "execute_result"
    }
   ],
   "execution_count": 22
  },
  {
   "cell_type": "markdown",
   "source": [
    "El ratio de pacientes fumadores y exfumadores supera al ratio general, siendo los que antes fumaban los que tienen el ratio superior de 2.9% de ataques cardiacos. Sin embargo no olvidemos que contiene más del 30% de valores vacíos por lo que esta conclusión no puede considerarse confiable."
   ],
   "metadata": {
    "id": "gw7kJm4cM68I"
   }
  },
  {
   "cell_type": "markdown",
   "source": [
    "*The ratio of current and former smokers exceeds the overall rate, with former smokers having the highest heart attack rate at 2.9%. However, it is important to remember that this variable contains more than 30% null values, so this conclusion cannot be considered reliable.*"
   ],
   "metadata": {
    "id": "BrrAIMy5j0sF"
   }
  },
  {
   "cell_type": "markdown",
   "source": [
    "## 2.5. Conclusión de variables / *Variable conclusion*"
   ],
   "metadata": {
    "id": "r6WUuYRigY0P"
   }
  },
  {
   "cell_type": "markdown",
   "source": [
    "Variables numéricas importantes:\n",
    "- Edad\n",
    "- Flag problem cardiaco\n",
    "- Promedio nivel glucosa\n",
    "- Flag hipertension\n",
    "- IMC\n",
    "\n",
    "Variables cualitativas importantes:\n",
    "- Tipo trabajo"
   ],
   "metadata": {
    "id": "d8CfNul_gcyb"
   }
  },
  {
   "cell_type": "markdown",
   "source": [
    "*Important numerical variables:*\n",
    "\n",
    "* *Age*\n",
    "* *Heart problem flag*\n",
    "* *Average glucose level*\n",
    "* *Hypertension flag*\n",
    "* *BMI*\n",
    "\n",
    "*Important categorical variables:*\n",
    "\n",
    "* *Type of work*"
   ],
   "metadata": {
    "id": "icQzophdkpbx"
   }
  },
  {
   "cell_type": "markdown",
   "source": [
    "# 3. Preprocesamiento de datos (IMC) / Data preprocessing (BMI)"
   ],
   "metadata": {
    "id": "GKo9eADkhYsJ"
   }
  },
  {
   "cell_type": "markdown",
   "source": [
    "En esta sección se reemplazarán los valores nulos de la columna \"IMC\" por valores generados por intervalos de confianza, además se codificarán las variables."
   ],
   "metadata": {
    "id": "BlCc1Y-3y5xW"
   }
  },
  {
   "cell_type": "markdown",
   "source": [
    "*In this section, the missing values in the \"BMI\" column will be replaced with values generated using confidence intervals, and the variables will be encoded.*"
   ],
   "metadata": {
    "id": "liIfXLEgzQCf"
   }
  },
  {
   "cell_type": "markdown",
   "source": [
    "## 3.1. Variables numéricas / *Numerical variables*"
   ],
   "metadata": {
    "id": "QPly8TVm2GFK"
   }
  },
  {
   "cell_type": "markdown",
   "source": [
    "### 3.1.1. IMC / *BMI*"
   ],
   "metadata": {
    "id": "ba6k09u-2Q3s"
   }
  },
  {
   "cell_type": "code",
   "source": [
    "#Promedio y desviación de IMC\n",
    "IMC_avg = df['IMC'].mean()\n",
    "IMC_std = df['IMC'].std()\n",
    "IMC_avg, IMC_std"
   ],
   "metadata": {
    "id": "IbRVKFzHf9Wo",
    "colab": {
     "base_uri": "https://localhost:8080/"
    },
    "outputId": "bff22147-1d71-45c8-c36d-62cfc896ee8e",
    "ExecuteTime": {
     "end_time": "2025-07-20T00:09:40.984083Z",
     "start_time": "2025-07-20T00:09:40.973481Z"
    }
   },
   "outputs": [
    {
     "data": {
      "text/plain": [
       "(np.float64(28.605038390004296), np.float64(7.770020497238738))"
      ]
     },
     "execution_count": 23,
     "metadata": {},
     "output_type": "execute_result"
    }
   ],
   "execution_count": 23
  },
  {
   "cell_type": "code",
   "source": [
    "#Cantidad de valores vacíos de IMC\n",
    "IMC_nullnum = df['IMC'].isna().sum()\n",
    "IMC_nullnum"
   ],
   "metadata": {
    "id": "YuefFtftiUKS",
    "colab": {
     "base_uri": "https://localhost:8080/"
    },
    "outputId": "d05c5dca-7d43-4235-92fd-4b3467b105ea",
    "ExecuteTime": {
     "end_time": "2025-07-20T00:09:41.125906Z",
     "start_time": "2025-07-20T00:09:41.119906Z"
    }
   },
   "outputs": [
    {
     "data": {
      "text/plain": [
       "np.int64(1462)"
      ]
     },
     "execution_count": 24,
     "metadata": {},
     "output_type": "execute_result"
    }
   ],
   "execution_count": 24
  },
  {
   "cell_type": "code",
   "source": [
    "#Lista de valores a reemplazar: valores de intervalos de confianza\n",
    "random.seed(123)\n",
    "IMC_lista_vacios = np.random.uniform(IMC_avg - IMC_std, IMC_avg +  IMC_std,size = IMC_nullnum) #intervalo de confianza / confidence interval"
   ],
   "metadata": {
    "id": "PI_KeEsEf9Ue",
    "ExecuteTime": {
     "end_time": "2025-07-20T00:09:41.207668Z",
     "start_time": "2025-07-20T00:09:41.201231Z"
    }
   },
   "outputs": [],
   "execution_count": 25
  },
  {
   "cell_type": "code",
   "source": [
    "#Filtrar valores vacíos en IMC\n",
    "df.loc[np.isnan(df['IMC']), 'IMC']"
   ],
   "metadata": {
    "id": "jwgA8pPTf9SV",
    "colab": {
     "base_uri": "https://localhost:8080/",
     "height": 458
    },
    "outputId": "27f5d469-40fb-4328-c45d-18c61f250c7b",
    "ExecuteTime": {
     "end_time": "2025-07-20T00:09:41.236134Z",
     "start_time": "2025-07-20T00:09:41.229246Z"
    }
   },
   "outputs": [
    {
     "data": {
      "text/plain": [
       "81      NaN\n",
       "95      NaN\n",
       "113     NaN\n",
       "186     NaN\n",
       "231     NaN\n",
       "         ..\n",
       "43317   NaN\n",
       "43339   NaN\n",
       "43351   NaN\n",
       "43371   NaN\n",
       "43388   NaN\n",
       "Name: IMC, Length: 1462, dtype: float64"
      ]
     },
     "execution_count": 26,
     "metadata": {},
     "output_type": "execute_result"
    }
   ],
   "execution_count": 26
  },
  {
   "cell_type": "code",
   "source": [
    "#Reemplazar los valores vacíos por valores generados\n",
    "df.loc[np.isnan(df['IMC']), 'IMC'] = IMC_lista_vacios"
   ],
   "metadata": {
    "id": "7HGSAd8Vf9QO",
    "ExecuteTime": {
     "end_time": "2025-07-20T00:09:41.400479Z",
     "start_time": "2025-07-20T00:09:41.395350Z"
    }
   },
   "outputs": [],
   "execution_count": 27
  },
  {
   "cell_type": "code",
   "source": [
    "df['IMC'].isna().sum()"
   ],
   "metadata": {
    "id": "uLmr4uqJf9OY",
    "colab": {
     "base_uri": "https://localhost:8080/"
    },
    "outputId": "1f6879d3-57d3-4fd3-83eb-2edd89aee31f",
    "ExecuteTime": {
     "end_time": "2025-07-20T00:09:41.462467Z",
     "start_time": "2025-07-20T00:09:41.455480Z"
    }
   },
   "outputs": [
    {
     "data": {
      "text/plain": [
       "np.int64(0)"
      ]
     },
     "execution_count": 28,
     "metadata": {},
     "output_type": "execute_result"
    }
   ],
   "execution_count": 28
  },
  {
   "cell_type": "markdown",
   "source": [
    "Se reemplazaron los valores vacíos por los generados."
   ],
   "metadata": {
    "id": "SYPb0Rcf0mvK"
   }
  },
  {
   "cell_type": "markdown",
   "source": [
    "*Null values were replaced with the generated values.*"
   ],
   "metadata": {
    "id": "3nxPuw840t60"
   }
  },
  {
   "cell_type": "markdown",
   "source": [
    "## 3.2. Transformación de variables / *Variable transformation*"
   ],
   "metadata": {
    "id": "zQYkivYfjolb"
   }
  },
  {
   "cell_type": "markdown",
   "source": [
    "Se transforman los datos de cada variable según los rangos a definir, ver las tablas."
   ],
   "metadata": {
    "id": "jFySiGDjw_YR"
   }
  },
  {
   "cell_type": "markdown",
   "source": [
    "*The data for each variable is transformed according to the ranges to be defined, see the tables.*"
   ],
   "metadata": {
    "id": "gOVo5EZLxr36"
   }
  },
  {
   "cell_type": "markdown",
   "source": [
    "### 3.2.1. Edad / *Age*"
   ],
   "metadata": {
    "id": "xM-N-k0FQU_K"
   }
  },
  {
   "cell_type": "markdown",
   "source": [
    "| Rango / *Range* | Edad / *Age*                         | Valor / *Value* |\n",
    "|-----------------|--------------------------------------|-----------------|\n",
    "| < 6             | Primera infancia / *Early childhood* | 1               |\n",
    "| >= 6 & <= 11    | Niñez / *Childhood*                  | 2               |\n",
    "| >= 12 & <= 18   | Adolescencia / *Adolescence*         | 3               |\n",
    "| >= 19 & <= 25   | Juventud / *Youth*                   | 4               |\n",
    "| >= 26 & <= 59   | Adultez / *Adulthood*                | 5               |\n",
    "| >= 60           | Vejez / *Old Age*                    | 6               |"
   ],
   "metadata": {
    "id": "5OEIWyMLxHMV"
   }
  },
  {
   "cell_type": "code",
   "source": [
    "df['Edad_Encoded'] = 0\n",
    "df.loc[df['Edad'] < 6, 'Edad_Encoded'] = 1 #Primera infancia\n",
    "df.loc[(df['Edad'] >= 6) & (df['Edad'] <= 11), 'Edad_Encoded'] = 2 #Niñez\n",
    "df.loc[(df['Edad'] >= 12) & (df['Edad'] <= 18), 'Edad_Encoded'] = 3 #Adolescencia\n",
    "df.loc[(df['Edad'] >= 19) & (df['Edad'] <= 25), 'Edad_Encoded'] = 4 #Juventud\n",
    "df.loc[(df['Edad'] >= 26) & (df['Edad'] <= 59), 'Edad_Encoded'] = 5 #Adultez\n",
    "df.loc[df['Edad'] >= 60, 'Edad_Encoded'] = 6 #Vejez"
   ],
   "metadata": {
    "id": "uW8lv_rCkD7d",
    "ExecuteTime": {
     "end_time": "2025-07-20T00:09:41.549341Z",
     "start_time": "2025-07-20T00:09:41.536201Z"
    }
   },
   "outputs": [],
   "execution_count": 29
  },
  {
   "cell_type": "markdown",
   "source": [
    "### 3.2.2. Nivel glucosa / *Glucose level*"
   ],
   "metadata": {
    "id": "szR9-XzWQZ0r"
   }
  },
  {
   "cell_type": "markdown",
   "source": [
    "| Rango / *Range* | Nivel glucosa / *Glucose level* | Valor / *Value* |\n",
    "|-----------------|---------------------------------|-----------------|\n",
    "| < 100           | Normal / *Normal*               | 1               |\n",
    "| >= 100 & <= 125 | Prediabetes / *Prediabetes*     | 2               |\n",
    "| >= 126          | Diabetes / *Diabetes*           | 3               |"
   ],
   "metadata": {
    "id": "pwCruUGU0s1q"
   }
  },
  {
   "cell_type": "code",
   "source": [
    "df['Glucosa_Encoded'] = 0\n",
    "df.loc[df['Promedio_nivel_glucosa'] < 100, 'Glucosa_Encoded'] = 1 # Normal\n",
    "df.loc[(df['Promedio_nivel_glucosa'] >= 100) & (df['Promedio_nivel_glucosa'] <= 125), 'Glucosa_Encoded'] = 2 # Prediabetes\n",
    "df.loc[df['Promedio_nivel_glucosa'] >= 126, 'Glucosa_Encoded'] = 3 # Diabetes"
   ],
   "metadata": {
    "id": "PNkUretEkS4c",
    "ExecuteTime": {
     "end_time": "2025-07-20T00:09:41.590682Z",
     "start_time": "2025-07-20T00:09:41.583375Z"
    }
   },
   "outputs": [],
   "execution_count": 30
  },
  {
   "cell_type": "markdown",
   "source": [
    "### 3.2.3. IMC / *BMI*"
   ],
   "metadata": {
    "id": "I2w7wHMVQnCr"
   }
  },
  {
   "cell_type": "markdown",
   "source": [
    "| Rango / *Range*   | IMC / *BMI*                       | Valor / *Value* |\n",
    "|-------------------|-----------------------------------|-----------------|\n",
    "| < 18.5            | Peso bajo / *Underweight*         | 1               |\n",
    "| >= 18.5 & <= 24.9 | Peso saludable / *Healthy weight* | 2               |\n",
    "| >= 25 & <= 29.9   | Sobrepeso / *Overweight*          | 3               |\n",
    "| >= 30             | Obesidad / *Obesity*              | 4               |"
   ],
   "metadata": {
    "id": "uyWipW-e2rU7"
   }
  },
  {
   "cell_type": "code",
   "source": [
    "df['IMC_Encoded']  = 0\n",
    "df.loc[df['IMC'] < 18.5, 'IMC_Encoded'] = 1 #Peso bajo\n",
    "df.loc[(df['IMC'] >= 18.5) & (df['IMC'] <= 24.9), 'IMC_Encoded'] = 2 #Peso saludable\n",
    "df.loc[(df['IMC'] >= 25) & (df['IMC'] <= 29.9), 'IMC_Encoded'] = 3 #Sobrepeso\n",
    "df.loc[df['IMC'] >= 30, 'IMC_Encoded'] = 4 #Obesidad"
   ],
   "metadata": {
    "id": "leCp0PLak0yU",
    "ExecuteTime": {
     "end_time": "2025-07-20T00:09:41.617573Z",
     "start_time": "2025-07-20T00:09:41.609568Z"
    }
   },
   "outputs": [],
   "execution_count": 31
  },
  {
   "cell_type": "markdown",
   "source": [
    "### 3.2.4. Tipo de trabajo / *Type of work*"
   ],
   "metadata": {
    "id": "ohwZ9UDLQ2Je"
   }
  },
  {
   "cell_type": "markdown",
   "source": [
    "| Tipo de trabajo / *Type of work*     | Valor / *Value* |\n",
    "|--------------------------------------|-----------------|\n",
    "| Emprendedor / *Self-employed*        | 1               |\n",
    "| Empresa privada / *Private company*  | 2               |\n",
    "| Gobierno / *Government*              | 3               |\n",
    "| Nunca trabajó / *Never worked*       | 4               |\n",
    "| Cuidar niños / *Children care*       | 5               |"
   ],
   "metadata": {
    "id": "3Xu7Qzjk8JeF"
   }
  },
  {
   "cell_type": "code",
   "source": [
    "df['TipoTrabajo_Encoded'] = df['Tipo_trabajo'].map({'Emprendedor':1,\n",
    "                                                    'Empresa_privada':2,\n",
    "                                                    'En_gobierno':3,\n",
    "                                                    'Nunca_trabajo':4,\n",
    "                                                    'cuidar_ninos':5,\n",
    "                                                    '':4}).astype(int)"
   ],
   "metadata": {
    "id": "MrjeG0Wvf9Ml",
    "ExecuteTime": {
     "end_time": "2025-07-20T00:09:41.646565Z",
     "start_time": "2025-07-20T00:09:41.638084Z"
    }
   },
   "outputs": [],
   "execution_count": 32
  },
  {
   "cell_type": "markdown",
   "source": [
    "## 3.3. Filtrar dataset para el modelo"
   ],
   "metadata": {
    "id": "YH2747EEmkWe"
   }
  },
  {
   "cell_type": "code",
   "source": [
    "df.head()"
   ],
   "metadata": {
    "id": "MMny49sif9Kr",
    "colab": {
     "base_uri": "https://localhost:8080/",
     "height": 226
    },
    "outputId": "e40a199e-be46-4b8d-f2aa-e7a5687214b6",
    "ExecuteTime": {
     "end_time": "2025-07-20T00:09:41.676752Z",
     "start_time": "2025-07-20T00:09:41.664536Z"
    }
   },
   "outputs": [
    {
     "data": {
      "text/plain": [
       "      ID  Genero  Edad  Flag_hipertension  Flag_problem_cardiaco  \\\n",
       "0  30669  Hombre   3.0                  0                      0   \n",
       "1  30468  Hombre  58.0                  1                      0   \n",
       "2  16523   Mujer   8.0                  0                      0   \n",
       "3  56543   Mujer  70.0                  0                      0   \n",
       "4  46136  Hombre  14.0                  0                      0   \n",
       "\n",
       "  Estados_civil     Tipo_trabajo Zona_residencia  Promedio_nivel_glucosa  \\\n",
       "0            No     cuidar_ninos           Rural                   95.12   \n",
       "1            Si  Empresa_privada          Urbano                   87.96   \n",
       "2            No  Empresa_privada          Urbano                  110.89   \n",
       "3            Si  Empresa_privada           Rural                   69.04   \n",
       "4            No    Nunca_trabajo           Rural                  161.28   \n",
       "\n",
       "    IMC  Flag_fumador  Ataque_cardiaco  Edad_Encoded  Glucosa_Encoded  \\\n",
       "0  18.0           NaN                0             1                1   \n",
       "1  39.2    Nunca_fuma                0             5                1   \n",
       "2  17.6           NaN                0             2                2   \n",
       "3  35.9  antes_fumaba                0             6                1   \n",
       "4  19.1           NaN                0             3                3   \n",
       "\n",
       "   IMC_Encoded  TipoTrabajo_Encoded  \n",
       "0            1                    5  \n",
       "1            4                    2  \n",
       "2            1                    2  \n",
       "3            4                    2  \n",
       "4            2                    4  "
      ],
      "text/html": [
       "<div>\n",
       "<style scoped>\n",
       "    .dataframe tbody tr th:only-of-type {\n",
       "        vertical-align: middle;\n",
       "    }\n",
       "\n",
       "    .dataframe tbody tr th {\n",
       "        vertical-align: top;\n",
       "    }\n",
       "\n",
       "    .dataframe thead th {\n",
       "        text-align: right;\n",
       "    }\n",
       "</style>\n",
       "<table border=\"1\" class=\"dataframe\">\n",
       "  <thead>\n",
       "    <tr style=\"text-align: right;\">\n",
       "      <th></th>\n",
       "      <th>ID</th>\n",
       "      <th>Genero</th>\n",
       "      <th>Edad</th>\n",
       "      <th>Flag_hipertension</th>\n",
       "      <th>Flag_problem_cardiaco</th>\n",
       "      <th>Estados_civil</th>\n",
       "      <th>Tipo_trabajo</th>\n",
       "      <th>Zona_residencia</th>\n",
       "      <th>Promedio_nivel_glucosa</th>\n",
       "      <th>IMC</th>\n",
       "      <th>Flag_fumador</th>\n",
       "      <th>Ataque_cardiaco</th>\n",
       "      <th>Edad_Encoded</th>\n",
       "      <th>Glucosa_Encoded</th>\n",
       "      <th>IMC_Encoded</th>\n",
       "      <th>TipoTrabajo_Encoded</th>\n",
       "    </tr>\n",
       "  </thead>\n",
       "  <tbody>\n",
       "    <tr>\n",
       "      <th>0</th>\n",
       "      <td>30669</td>\n",
       "      <td>Hombre</td>\n",
       "      <td>3.0</td>\n",
       "      <td>0</td>\n",
       "      <td>0</td>\n",
       "      <td>No</td>\n",
       "      <td>cuidar_ninos</td>\n",
       "      <td>Rural</td>\n",
       "      <td>95.12</td>\n",
       "      <td>18.0</td>\n",
       "      <td>NaN</td>\n",
       "      <td>0</td>\n",
       "      <td>1</td>\n",
       "      <td>1</td>\n",
       "      <td>1</td>\n",
       "      <td>5</td>\n",
       "    </tr>\n",
       "    <tr>\n",
       "      <th>1</th>\n",
       "      <td>30468</td>\n",
       "      <td>Hombre</td>\n",
       "      <td>58.0</td>\n",
       "      <td>1</td>\n",
       "      <td>0</td>\n",
       "      <td>Si</td>\n",
       "      <td>Empresa_privada</td>\n",
       "      <td>Urbano</td>\n",
       "      <td>87.96</td>\n",
       "      <td>39.2</td>\n",
       "      <td>Nunca_fuma</td>\n",
       "      <td>0</td>\n",
       "      <td>5</td>\n",
       "      <td>1</td>\n",
       "      <td>4</td>\n",
       "      <td>2</td>\n",
       "    </tr>\n",
       "    <tr>\n",
       "      <th>2</th>\n",
       "      <td>16523</td>\n",
       "      <td>Mujer</td>\n",
       "      <td>8.0</td>\n",
       "      <td>0</td>\n",
       "      <td>0</td>\n",
       "      <td>No</td>\n",
       "      <td>Empresa_privada</td>\n",
       "      <td>Urbano</td>\n",
       "      <td>110.89</td>\n",
       "      <td>17.6</td>\n",
       "      <td>NaN</td>\n",
       "      <td>0</td>\n",
       "      <td>2</td>\n",
       "      <td>2</td>\n",
       "      <td>1</td>\n",
       "      <td>2</td>\n",
       "    </tr>\n",
       "    <tr>\n",
       "      <th>3</th>\n",
       "      <td>56543</td>\n",
       "      <td>Mujer</td>\n",
       "      <td>70.0</td>\n",
       "      <td>0</td>\n",
       "      <td>0</td>\n",
       "      <td>Si</td>\n",
       "      <td>Empresa_privada</td>\n",
       "      <td>Rural</td>\n",
       "      <td>69.04</td>\n",
       "      <td>35.9</td>\n",
       "      <td>antes_fumaba</td>\n",
       "      <td>0</td>\n",
       "      <td>6</td>\n",
       "      <td>1</td>\n",
       "      <td>4</td>\n",
       "      <td>2</td>\n",
       "    </tr>\n",
       "    <tr>\n",
       "      <th>4</th>\n",
       "      <td>46136</td>\n",
       "      <td>Hombre</td>\n",
       "      <td>14.0</td>\n",
       "      <td>0</td>\n",
       "      <td>0</td>\n",
       "      <td>No</td>\n",
       "      <td>Nunca_trabajo</td>\n",
       "      <td>Rural</td>\n",
       "      <td>161.28</td>\n",
       "      <td>19.1</td>\n",
       "      <td>NaN</td>\n",
       "      <td>0</td>\n",
       "      <td>3</td>\n",
       "      <td>3</td>\n",
       "      <td>2</td>\n",
       "      <td>4</td>\n",
       "    </tr>\n",
       "  </tbody>\n",
       "</table>\n",
       "</div>"
      ]
     },
     "execution_count": 33,
     "metadata": {},
     "output_type": "execute_result"
    }
   ],
   "execution_count": 33
  },
  {
   "cell_type": "markdown",
   "source": [
    "Filtramos los valores transformados y lo guardamos en un dataframe para la posterior ejecución del modelo."
   ],
   "metadata": {
    "id": "LHbA0s-b9O8r"
   }
  },
  {
   "cell_type": "markdown",
   "source": [
    "*Now we filter the transformed values and store them in a dataframe for the execution of the model.*"
   ],
   "metadata": {
    "id": "5GHiRapr9c0J"
   }
  },
  {
   "cell_type": "code",
   "source": [
    "df_encoded = df[['Ataque_cardiaco','Flag_hipertension','Flag_problem_cardiaco',\n",
    "                 'Edad_Encoded','Glucosa_Encoded','IMC_Encoded','TipoTrabajo_Encoded']]"
   ],
   "metadata": {
    "id": "PZ91KH5bf9IV",
    "ExecuteTime": {
     "end_time": "2025-07-20T00:09:41.741648Z",
     "start_time": "2025-07-20T00:09:41.735592Z"
    }
   },
   "outputs": [],
   "execution_count": 34
  },
  {
   "cell_type": "code",
   "source": [
    "df_encoded.head()"
   ],
   "metadata": {
    "id": "tb_i4eWQmht0",
    "colab": {
     "base_uri": "https://localhost:8080/",
     "height": 206
    },
    "outputId": "17a73e66-d135-4976-d34a-5b74d2f0ddd7",
    "ExecuteTime": {
     "end_time": "2025-07-20T00:09:41.806083Z",
     "start_time": "2025-07-20T00:09:41.798359Z"
    }
   },
   "outputs": [
    {
     "data": {
      "text/plain": [
       "   Ataque_cardiaco  Flag_hipertension  Flag_problem_cardiaco  Edad_Encoded  \\\n",
       "0                0                  0                      0             1   \n",
       "1                0                  1                      0             5   \n",
       "2                0                  0                      0             2   \n",
       "3                0                  0                      0             6   \n",
       "4                0                  0                      0             3   \n",
       "\n",
       "   Glucosa_Encoded  IMC_Encoded  TipoTrabajo_Encoded  \n",
       "0                1            1                    5  \n",
       "1                1            4                    2  \n",
       "2                2            1                    2  \n",
       "3                1            4                    2  \n",
       "4                3            2                    4  "
      ],
      "text/html": [
       "<div>\n",
       "<style scoped>\n",
       "    .dataframe tbody tr th:only-of-type {\n",
       "        vertical-align: middle;\n",
       "    }\n",
       "\n",
       "    .dataframe tbody tr th {\n",
       "        vertical-align: top;\n",
       "    }\n",
       "\n",
       "    .dataframe thead th {\n",
       "        text-align: right;\n",
       "    }\n",
       "</style>\n",
       "<table border=\"1\" class=\"dataframe\">\n",
       "  <thead>\n",
       "    <tr style=\"text-align: right;\">\n",
       "      <th></th>\n",
       "      <th>Ataque_cardiaco</th>\n",
       "      <th>Flag_hipertension</th>\n",
       "      <th>Flag_problem_cardiaco</th>\n",
       "      <th>Edad_Encoded</th>\n",
       "      <th>Glucosa_Encoded</th>\n",
       "      <th>IMC_Encoded</th>\n",
       "      <th>TipoTrabajo_Encoded</th>\n",
       "    </tr>\n",
       "  </thead>\n",
       "  <tbody>\n",
       "    <tr>\n",
       "      <th>0</th>\n",
       "      <td>0</td>\n",
       "      <td>0</td>\n",
       "      <td>0</td>\n",
       "      <td>1</td>\n",
       "      <td>1</td>\n",
       "      <td>1</td>\n",
       "      <td>5</td>\n",
       "    </tr>\n",
       "    <tr>\n",
       "      <th>1</th>\n",
       "      <td>0</td>\n",
       "      <td>1</td>\n",
       "      <td>0</td>\n",
       "      <td>5</td>\n",
       "      <td>1</td>\n",
       "      <td>4</td>\n",
       "      <td>2</td>\n",
       "    </tr>\n",
       "    <tr>\n",
       "      <th>2</th>\n",
       "      <td>0</td>\n",
       "      <td>0</td>\n",
       "      <td>0</td>\n",
       "      <td>2</td>\n",
       "      <td>2</td>\n",
       "      <td>1</td>\n",
       "      <td>2</td>\n",
       "    </tr>\n",
       "    <tr>\n",
       "      <th>3</th>\n",
       "      <td>0</td>\n",
       "      <td>0</td>\n",
       "      <td>0</td>\n",
       "      <td>6</td>\n",
       "      <td>1</td>\n",
       "      <td>4</td>\n",
       "      <td>2</td>\n",
       "    </tr>\n",
       "    <tr>\n",
       "      <th>4</th>\n",
       "      <td>0</td>\n",
       "      <td>0</td>\n",
       "      <td>0</td>\n",
       "      <td>3</td>\n",
       "      <td>3</td>\n",
       "      <td>2</td>\n",
       "      <td>4</td>\n",
       "    </tr>\n",
       "  </tbody>\n",
       "</table>\n",
       "</div>"
      ]
     },
     "execution_count": 35,
     "metadata": {},
     "output_type": "execute_result"
    }
   ],
   "execution_count": 35
  },
  {
   "cell_type": "markdown",
   "source": [
    "# 4. Balanceo de datos / *Data balancing*"
   ],
   "metadata": {
    "id": "7f-L1dSLwNBQ"
   }
  },
  {
   "cell_type": "markdown",
   "source": [
    "Debido a que en nuestro conjunto de datos tenemos clases desbalanceadas, ya que tenemos más casos de no ataques cardiacos (98.2%, valor:0) que de ataques cardiacos (1.8%, valor:1) aplicaremos la técnica de balanceo SMOTE para que el modelo no actúe sesgado."
   ],
   "metadata": {
    "id": "OUL2mRGYnvdj"
   }
  },
  {
   "cell_type": "markdown",
   "source": [
    "*Since our dataset contains imbalanced classes with more non heart attack cases (98.2%, value:0) than heart attack cases (1.8%, value:1), the SMOTE technique will be applied to balance the data so that the model does not behave in a biased way.*"
   ],
   "metadata": {
    "id": "9gqSx1T2otsF"
   }
  },
  {
   "cell_type": "code",
   "source": [
    "df_encoded['Ataque_cardiaco'].value_counts(1)"
   ],
   "metadata": {
    "id": "mjwQ-t5R-Mmc",
    "colab": {
     "base_uri": "https://localhost:8080/",
     "height": 178
    },
    "outputId": "9a13a8c3-5bfd-46dc-bcf6-fc73c5dfa23f",
    "ExecuteTime": {
     "end_time": "2025-07-20T00:09:41.906147Z",
     "start_time": "2025-07-20T00:09:41.899377Z"
    }
   },
   "outputs": [
    {
     "data": {
      "text/plain": [
       "Ataque_cardiaco\n",
       "0    0.981959\n",
       "1    0.018041\n",
       "Name: proportion, dtype: float64"
      ]
     },
     "execution_count": 36,
     "metadata": {},
     "output_type": "execute_result"
    }
   ],
   "execution_count": 36
  },
  {
   "cell_type": "code",
   "source": [
    "X = df_encoded.drop('Ataque_cardiaco', axis=1)\n",
    "y = df_encoded['Ataque_cardiaco']"
   ],
   "metadata": {
    "id": "MG_udxLd-laQ",
    "ExecuteTime": {
     "end_time": "2025-07-20T00:09:42.078572Z",
     "start_time": "2025-07-20T00:09:42.072878Z"
    }
   },
   "outputs": [],
   "execution_count": 37
  },
  {
   "cell_type": "code",
   "source": [
    "X.head()"
   ],
   "metadata": {
    "id": "Q5kM_nP0-s5a",
    "colab": {
     "base_uri": "https://localhost:8080/",
     "height": 206
    },
    "outputId": "997caee3-21d8-4a80-d099-13fbab0bc9ad",
    "ExecuteTime": {
     "end_time": "2025-07-20T00:09:42.183982Z",
     "start_time": "2025-07-20T00:09:42.175976Z"
    }
   },
   "outputs": [
    {
     "data": {
      "text/plain": [
       "   Flag_hipertension  Flag_problem_cardiaco  Edad_Encoded  Glucosa_Encoded  \\\n",
       "0                  0                      0             1                1   \n",
       "1                  1                      0             5                1   \n",
       "2                  0                      0             2                2   \n",
       "3                  0                      0             6                1   \n",
       "4                  0                      0             3                3   \n",
       "\n",
       "   IMC_Encoded  TipoTrabajo_Encoded  \n",
       "0            1                    5  \n",
       "1            4                    2  \n",
       "2            1                    2  \n",
       "3            4                    2  \n",
       "4            2                    4  "
      ],
      "text/html": [
       "<div>\n",
       "<style scoped>\n",
       "    .dataframe tbody tr th:only-of-type {\n",
       "        vertical-align: middle;\n",
       "    }\n",
       "\n",
       "    .dataframe tbody tr th {\n",
       "        vertical-align: top;\n",
       "    }\n",
       "\n",
       "    .dataframe thead th {\n",
       "        text-align: right;\n",
       "    }\n",
       "</style>\n",
       "<table border=\"1\" class=\"dataframe\">\n",
       "  <thead>\n",
       "    <tr style=\"text-align: right;\">\n",
       "      <th></th>\n",
       "      <th>Flag_hipertension</th>\n",
       "      <th>Flag_problem_cardiaco</th>\n",
       "      <th>Edad_Encoded</th>\n",
       "      <th>Glucosa_Encoded</th>\n",
       "      <th>IMC_Encoded</th>\n",
       "      <th>TipoTrabajo_Encoded</th>\n",
       "    </tr>\n",
       "  </thead>\n",
       "  <tbody>\n",
       "    <tr>\n",
       "      <th>0</th>\n",
       "      <td>0</td>\n",
       "      <td>0</td>\n",
       "      <td>1</td>\n",
       "      <td>1</td>\n",
       "      <td>1</td>\n",
       "      <td>5</td>\n",
       "    </tr>\n",
       "    <tr>\n",
       "      <th>1</th>\n",
       "      <td>1</td>\n",
       "      <td>0</td>\n",
       "      <td>5</td>\n",
       "      <td>1</td>\n",
       "      <td>4</td>\n",
       "      <td>2</td>\n",
       "    </tr>\n",
       "    <tr>\n",
       "      <th>2</th>\n",
       "      <td>0</td>\n",
       "      <td>0</td>\n",
       "      <td>2</td>\n",
       "      <td>2</td>\n",
       "      <td>1</td>\n",
       "      <td>2</td>\n",
       "    </tr>\n",
       "    <tr>\n",
       "      <th>3</th>\n",
       "      <td>0</td>\n",
       "      <td>0</td>\n",
       "      <td>6</td>\n",
       "      <td>1</td>\n",
       "      <td>4</td>\n",
       "      <td>2</td>\n",
       "    </tr>\n",
       "    <tr>\n",
       "      <th>4</th>\n",
       "      <td>0</td>\n",
       "      <td>0</td>\n",
       "      <td>3</td>\n",
       "      <td>3</td>\n",
       "      <td>2</td>\n",
       "      <td>4</td>\n",
       "    </tr>\n",
       "  </tbody>\n",
       "</table>\n",
       "</div>"
      ]
     },
     "execution_count": 38,
     "metadata": {},
     "output_type": "execute_result"
    }
   ],
   "execution_count": 38
  },
  {
   "cell_type": "markdown",
   "source": [
    "Dividiendo el dataset en entrenamiento y prueba (20%)."
   ],
   "metadata": {
    "id": "4mE90_8PpYHk"
   }
  },
  {
   "cell_type": "markdown",
   "source": [
    "*Splitting the dataset into training and testing sets (20%).*"
   ],
   "metadata": {
    "id": "-86IEC80peWR"
   }
  },
  {
   "cell_type": "code",
   "source": [
    "X_train, X_test, y_train, y_test = train_test_split(X, y, test_size=0.2, random_state=123)"
   ],
   "metadata": {
    "id": "9M9u2uIj-zoA",
    "ExecuteTime": {
     "end_time": "2025-07-20T00:09:42.269810Z",
     "start_time": "2025-07-20T00:09:42.259922Z"
    }
   },
   "outputs": [],
   "execution_count": 39
  },
  {
   "cell_type": "code",
   "source": [
    "len(X_train), len(X_test), len(y_train), len(y_test)"
   ],
   "metadata": {
    "id": "lNpu0eFR_V-o",
    "colab": {
     "base_uri": "https://localhost:8080/"
    },
    "outputId": "c8d815a5-b83a-4d85-acbb-077cae5e4338",
    "ExecuteTime": {
     "end_time": "2025-07-20T00:09:42.373540Z",
     "start_time": "2025-07-20T00:09:42.367540Z"
    }
   },
   "outputs": [
    {
     "data": {
      "text/plain": [
       "(34720, 8680, 34720, 8680)"
      ]
     },
     "execution_count": 40,
     "metadata": {},
     "output_type": "execute_result"
    }
   ],
   "execution_count": 40
  },
  {
   "cell_type": "markdown",
   "source": [
    "Se aplicará el balanceo en el conjunto de entrenamiento."
   ],
   "metadata": {
    "id": "BsdyeNKhp6EL"
   }
  },
  {
   "cell_type": "markdown",
   "source": [
    "*Balancing will be applied to the training set.*"
   ],
   "metadata": {
    "id": "7dSKPvslqAbJ"
   }
  },
  {
   "cell_type": "code",
   "source": [
    "df_train = pd.concat([X_train,y_train], axis=1)\n",
    "df_train.head()"
   ],
   "metadata": {
    "id": "R_9JLUBy_gza",
    "colab": {
     "base_uri": "https://localhost:8080/",
     "height": 206
    },
    "outputId": "c1b46bd5-fab8-4e54-a181-38ef86feb8a4",
    "ExecuteTime": {
     "end_time": "2025-07-20T00:09:42.447015Z",
     "start_time": "2025-07-20T00:09:42.434196Z"
    }
   },
   "outputs": [
    {
     "data": {
      "text/plain": [
       "       Flag_hipertension  Flag_problem_cardiaco  Edad_Encoded  \\\n",
       "2998                   0                      0             5   \n",
       "4400                   0                      0             5   \n",
       "19188                  0                      0             1   \n",
       "22323                  0                      0             5   \n",
       "18132                  0                      0             4   \n",
       "\n",
       "       Glucosa_Encoded  IMC_Encoded  TipoTrabajo_Encoded  Ataque_cardiaco  \n",
       "2998                 1            2                    3                0  \n",
       "4400                 1            3                    2                0  \n",
       "19188                1            2                    5                0  \n",
       "22323                1            4                    1                0  \n",
       "18132                1            3                    2                0  "
      ],
      "text/html": [
       "<div>\n",
       "<style scoped>\n",
       "    .dataframe tbody tr th:only-of-type {\n",
       "        vertical-align: middle;\n",
       "    }\n",
       "\n",
       "    .dataframe tbody tr th {\n",
       "        vertical-align: top;\n",
       "    }\n",
       "\n",
       "    .dataframe thead th {\n",
       "        text-align: right;\n",
       "    }\n",
       "</style>\n",
       "<table border=\"1\" class=\"dataframe\">\n",
       "  <thead>\n",
       "    <tr style=\"text-align: right;\">\n",
       "      <th></th>\n",
       "      <th>Flag_hipertension</th>\n",
       "      <th>Flag_problem_cardiaco</th>\n",
       "      <th>Edad_Encoded</th>\n",
       "      <th>Glucosa_Encoded</th>\n",
       "      <th>IMC_Encoded</th>\n",
       "      <th>TipoTrabajo_Encoded</th>\n",
       "      <th>Ataque_cardiaco</th>\n",
       "    </tr>\n",
       "  </thead>\n",
       "  <tbody>\n",
       "    <tr>\n",
       "      <th>2998</th>\n",
       "      <td>0</td>\n",
       "      <td>0</td>\n",
       "      <td>5</td>\n",
       "      <td>1</td>\n",
       "      <td>2</td>\n",
       "      <td>3</td>\n",
       "      <td>0</td>\n",
       "    </tr>\n",
       "    <tr>\n",
       "      <th>4400</th>\n",
       "      <td>0</td>\n",
       "      <td>0</td>\n",
       "      <td>5</td>\n",
       "      <td>1</td>\n",
       "      <td>3</td>\n",
       "      <td>2</td>\n",
       "      <td>0</td>\n",
       "    </tr>\n",
       "    <tr>\n",
       "      <th>19188</th>\n",
       "      <td>0</td>\n",
       "      <td>0</td>\n",
       "      <td>1</td>\n",
       "      <td>1</td>\n",
       "      <td>2</td>\n",
       "      <td>5</td>\n",
       "      <td>0</td>\n",
       "    </tr>\n",
       "    <tr>\n",
       "      <th>22323</th>\n",
       "      <td>0</td>\n",
       "      <td>0</td>\n",
       "      <td>5</td>\n",
       "      <td>1</td>\n",
       "      <td>4</td>\n",
       "      <td>1</td>\n",
       "      <td>0</td>\n",
       "    </tr>\n",
       "    <tr>\n",
       "      <th>18132</th>\n",
       "      <td>0</td>\n",
       "      <td>0</td>\n",
       "      <td>4</td>\n",
       "      <td>1</td>\n",
       "      <td>3</td>\n",
       "      <td>2</td>\n",
       "      <td>0</td>\n",
       "    </tr>\n",
       "  </tbody>\n",
       "</table>\n",
       "</div>"
      ]
     },
     "execution_count": 41,
     "metadata": {},
     "output_type": "execute_result"
    }
   ],
   "execution_count": 41
  },
  {
   "cell_type": "code",
   "source": [
    "count_class_0, count_class_1 = df_train['Ataque_cardiaco'].value_counts() #conteo de clases\n",
    "print(count_class_0, count_class_1) #0: no ataque cardiaco , 1: ataque cardiaco"
   ],
   "metadata": {
    "id": "EGaEz9D2_uwy",
    "colab": {
     "base_uri": "https://localhost:8080/"
    },
    "outputId": "a9b50444-4e80-4099-d67c-7c65c642be69",
    "ExecuteTime": {
     "end_time": "2025-07-20T00:09:42.527214Z",
     "start_time": "2025-07-20T00:09:42.521212Z"
    }
   },
   "outputs": [
    {
     "name": "stdout",
     "output_type": "stream",
     "text": [
      "34099 621\n"
     ]
    }
   ],
   "execution_count": 42
  },
  {
   "cell_type": "code",
   "source": [
    "df_train_class_0 = df_train[df_train['Ataque_cardiaco'] == 0] #dataset no ataques cardiacos\n",
    "df_train_class_1 = df_train[df_train['Ataque_cardiaco'] == 1] #dataset ataques cardiacos\n",
    "df_train_class_0.shape, df_train_class_1.shape"
   ],
   "metadata": {
    "id": "zI7krm0V_64q",
    "colab": {
     "base_uri": "https://localhost:8080/"
    },
    "outputId": "b6f6e120-f7ea-4918-f975-90f1a3c23b02",
    "ExecuteTime": {
     "end_time": "2025-07-20T00:09:42.651602Z",
     "start_time": "2025-07-20T00:09:42.642556Z"
    }
   },
   "outputs": [
    {
     "data": {
      "text/plain": [
       "((34099, 7), (621, 7))"
      ]
     },
     "execution_count": 43,
     "metadata": {},
     "output_type": "execute_result"
    }
   ],
   "execution_count": 43
  },
  {
   "cell_type": "markdown",
   "source": [
    "## 4.1. SMOOTE"
   ],
   "metadata": {
    "id": "nkBN8ecoCG35"
   }
  },
  {
   "cell_type": "markdown",
   "source": [
    "Primero aplicamos a unos cuantos ejemplos del conjunto de datos."
   ],
   "metadata": {
    "id": "y1Nm51AW1GXA"
   }
  },
  {
   "cell_type": "markdown",
   "source": [
    "*First, we apply it to a few examples from the dataset.*"
   ],
   "metadata": {
    "id": "mzwkjUev1Pa5"
   }
  },
  {
   "cell_type": "code",
   "source": [
    "df_ejemplo = pd.concat([df_train[df_train['Ataque_cardiaco']==0].head(5), df_train[df_train['Ataque_cardiaco']==1].head(2)], axis = 0)\n",
    "df_ejemplo"
   ],
   "metadata": {
    "id": "a9QCOXEcCAhG",
    "colab": {
     "base_uri": "https://localhost:8080/",
     "height": 269
    },
    "outputId": "e5c81963-bc75-4d22-fba1-710dc834b3a8",
    "ExecuteTime": {
     "end_time": "2025-07-20T00:09:42.730047Z",
     "start_time": "2025-07-20T00:09:42.716525Z"
    }
   },
   "outputs": [
    {
     "data": {
      "text/plain": [
       "       Flag_hipertension  Flag_problem_cardiaco  Edad_Encoded  \\\n",
       "2998                   0                      0             5   \n",
       "4400                   0                      0             5   \n",
       "19188                  0                      0             1   \n",
       "22323                  0                      0             5   \n",
       "18132                  0                      0             4   \n",
       "38090                  1                      1             6   \n",
       "24199                  0                      0             5   \n",
       "\n",
       "       Glucosa_Encoded  IMC_Encoded  TipoTrabajo_Encoded  Ataque_cardiaco  \n",
       "2998                 1            2                    3                0  \n",
       "4400                 1            3                    2                0  \n",
       "19188                1            2                    5                0  \n",
       "22323                1            4                    1                0  \n",
       "18132                1            3                    2                0  \n",
       "38090                1            4                    2                1  \n",
       "24199                2            4                    2                1  "
      ],
      "text/html": [
       "<div>\n",
       "<style scoped>\n",
       "    .dataframe tbody tr th:only-of-type {\n",
       "        vertical-align: middle;\n",
       "    }\n",
       "\n",
       "    .dataframe tbody tr th {\n",
       "        vertical-align: top;\n",
       "    }\n",
       "\n",
       "    .dataframe thead th {\n",
       "        text-align: right;\n",
       "    }\n",
       "</style>\n",
       "<table border=\"1\" class=\"dataframe\">\n",
       "  <thead>\n",
       "    <tr style=\"text-align: right;\">\n",
       "      <th></th>\n",
       "      <th>Flag_hipertension</th>\n",
       "      <th>Flag_problem_cardiaco</th>\n",
       "      <th>Edad_Encoded</th>\n",
       "      <th>Glucosa_Encoded</th>\n",
       "      <th>IMC_Encoded</th>\n",
       "      <th>TipoTrabajo_Encoded</th>\n",
       "      <th>Ataque_cardiaco</th>\n",
       "    </tr>\n",
       "  </thead>\n",
       "  <tbody>\n",
       "    <tr>\n",
       "      <th>2998</th>\n",
       "      <td>0</td>\n",
       "      <td>0</td>\n",
       "      <td>5</td>\n",
       "      <td>1</td>\n",
       "      <td>2</td>\n",
       "      <td>3</td>\n",
       "      <td>0</td>\n",
       "    </tr>\n",
       "    <tr>\n",
       "      <th>4400</th>\n",
       "      <td>0</td>\n",
       "      <td>0</td>\n",
       "      <td>5</td>\n",
       "      <td>1</td>\n",
       "      <td>3</td>\n",
       "      <td>2</td>\n",
       "      <td>0</td>\n",
       "    </tr>\n",
       "    <tr>\n",
       "      <th>19188</th>\n",
       "      <td>0</td>\n",
       "      <td>0</td>\n",
       "      <td>1</td>\n",
       "      <td>1</td>\n",
       "      <td>2</td>\n",
       "      <td>5</td>\n",
       "      <td>0</td>\n",
       "    </tr>\n",
       "    <tr>\n",
       "      <th>22323</th>\n",
       "      <td>0</td>\n",
       "      <td>0</td>\n",
       "      <td>5</td>\n",
       "      <td>1</td>\n",
       "      <td>4</td>\n",
       "      <td>1</td>\n",
       "      <td>0</td>\n",
       "    </tr>\n",
       "    <tr>\n",
       "      <th>18132</th>\n",
       "      <td>0</td>\n",
       "      <td>0</td>\n",
       "      <td>4</td>\n",
       "      <td>1</td>\n",
       "      <td>3</td>\n",
       "      <td>2</td>\n",
       "      <td>0</td>\n",
       "    </tr>\n",
       "    <tr>\n",
       "      <th>38090</th>\n",
       "      <td>1</td>\n",
       "      <td>1</td>\n",
       "      <td>6</td>\n",
       "      <td>1</td>\n",
       "      <td>4</td>\n",
       "      <td>2</td>\n",
       "      <td>1</td>\n",
       "    </tr>\n",
       "    <tr>\n",
       "      <th>24199</th>\n",
       "      <td>0</td>\n",
       "      <td>0</td>\n",
       "      <td>5</td>\n",
       "      <td>2</td>\n",
       "      <td>4</td>\n",
       "      <td>2</td>\n",
       "      <td>1</td>\n",
       "    </tr>\n",
       "  </tbody>\n",
       "</table>\n",
       "</div>"
      ]
     },
     "execution_count": 44,
     "metadata": {},
     "output_type": "execute_result"
    }
   ],
   "execution_count": 44
  },
  {
   "cell_type": "markdown",
   "source": [
    "Luego, definimos X e Y, entrenamos el algoritmo."
   ],
   "metadata": {
    "id": "c43I-IM6XpBQ"
   }
  },
  {
   "cell_type": "markdown",
   "source": [
    "*Then, we define X and Y, and train the algorithm.*"
   ],
   "metadata": {
    "id": "UV02sVnnXzjr"
   }
  },
  {
   "cell_type": "code",
   "source": [
    "aux_1 = df_ejemplo.drop('Ataque_cardiaco', axis=1)\n",
    "aux_2 = df_ejemplo['Ataque_cardiaco']\n",
    "\n",
    "smote = SMOTE(k_neighbors=1, random_state=123, sampling_strategy = 'minority')\n",
    "X_smote, y_smote = smote.fit_resample(aux_1, aux_2)"
   ],
   "metadata": {
    "id": "CEWs-g2NCEmQ",
    "ExecuteTime": {
     "end_time": "2025-07-20T00:09:42.833866Z",
     "start_time": "2025-07-20T00:09:42.820346Z"
    }
   },
   "outputs": [],
   "execution_count": 45
  },
  {
   "cell_type": "code",
   "source": [
    "#Resultados\n",
    "pd.concat([X_smote, y_smote], axis=1)"
   ],
   "metadata": {
    "id": "ckUO4aoQCEkI",
    "colab": {
     "base_uri": "https://localhost:8080/",
     "height": 363
    },
    "outputId": "0a35f8ce-0fb8-4bb2-90a8-1c465375b73f",
    "ExecuteTime": {
     "end_time": "2025-07-20T00:09:42.945683Z",
     "start_time": "2025-07-20T00:09:42.931663Z"
    }
   },
   "outputs": [
    {
     "data": {
      "text/plain": [
       "   Flag_hipertension  Flag_problem_cardiaco  Edad_Encoded  Glucosa_Encoded  \\\n",
       "0                  0                      0             5                1   \n",
       "1                  0                      0             5                1   \n",
       "2                  0                      0             1                1   \n",
       "3                  0                      0             5                1   \n",
       "4                  0                      0             4                1   \n",
       "5                  1                      1             6                1   \n",
       "6                  0                      0             5                2   \n",
       "7                  0                      0             5                1   \n",
       "8                  0                      0             5                1   \n",
       "9                  0                      0             5                1   \n",
       "\n",
       "   IMC_Encoded  TipoTrabajo_Encoded  Ataque_cardiaco  \n",
       "0            2                    3                0  \n",
       "1            3                    2                0  \n",
       "2            2                    5                0  \n",
       "3            4                    1                0  \n",
       "4            3                    2                0  \n",
       "5            4                    2                1  \n",
       "6            4                    2                1  \n",
       "7            4                    2                1  \n",
       "8            4                    2                1  \n",
       "9            4                    2                1  "
      ],
      "text/html": [
       "<div>\n",
       "<style scoped>\n",
       "    .dataframe tbody tr th:only-of-type {\n",
       "        vertical-align: middle;\n",
       "    }\n",
       "\n",
       "    .dataframe tbody tr th {\n",
       "        vertical-align: top;\n",
       "    }\n",
       "\n",
       "    .dataframe thead th {\n",
       "        text-align: right;\n",
       "    }\n",
       "</style>\n",
       "<table border=\"1\" class=\"dataframe\">\n",
       "  <thead>\n",
       "    <tr style=\"text-align: right;\">\n",
       "      <th></th>\n",
       "      <th>Flag_hipertension</th>\n",
       "      <th>Flag_problem_cardiaco</th>\n",
       "      <th>Edad_Encoded</th>\n",
       "      <th>Glucosa_Encoded</th>\n",
       "      <th>IMC_Encoded</th>\n",
       "      <th>TipoTrabajo_Encoded</th>\n",
       "      <th>Ataque_cardiaco</th>\n",
       "    </tr>\n",
       "  </thead>\n",
       "  <tbody>\n",
       "    <tr>\n",
       "      <th>0</th>\n",
       "      <td>0</td>\n",
       "      <td>0</td>\n",
       "      <td>5</td>\n",
       "      <td>1</td>\n",
       "      <td>2</td>\n",
       "      <td>3</td>\n",
       "      <td>0</td>\n",
       "    </tr>\n",
       "    <tr>\n",
       "      <th>1</th>\n",
       "      <td>0</td>\n",
       "      <td>0</td>\n",
       "      <td>5</td>\n",
       "      <td>1</td>\n",
       "      <td>3</td>\n",
       "      <td>2</td>\n",
       "      <td>0</td>\n",
       "    </tr>\n",
       "    <tr>\n",
       "      <th>2</th>\n",
       "      <td>0</td>\n",
       "      <td>0</td>\n",
       "      <td>1</td>\n",
       "      <td>1</td>\n",
       "      <td>2</td>\n",
       "      <td>5</td>\n",
       "      <td>0</td>\n",
       "    </tr>\n",
       "    <tr>\n",
       "      <th>3</th>\n",
       "      <td>0</td>\n",
       "      <td>0</td>\n",
       "      <td>5</td>\n",
       "      <td>1</td>\n",
       "      <td>4</td>\n",
       "      <td>1</td>\n",
       "      <td>0</td>\n",
       "    </tr>\n",
       "    <tr>\n",
       "      <th>4</th>\n",
       "      <td>0</td>\n",
       "      <td>0</td>\n",
       "      <td>4</td>\n",
       "      <td>1</td>\n",
       "      <td>3</td>\n",
       "      <td>2</td>\n",
       "      <td>0</td>\n",
       "    </tr>\n",
       "    <tr>\n",
       "      <th>5</th>\n",
       "      <td>1</td>\n",
       "      <td>1</td>\n",
       "      <td>6</td>\n",
       "      <td>1</td>\n",
       "      <td>4</td>\n",
       "      <td>2</td>\n",
       "      <td>1</td>\n",
       "    </tr>\n",
       "    <tr>\n",
       "      <th>6</th>\n",
       "      <td>0</td>\n",
       "      <td>0</td>\n",
       "      <td>5</td>\n",
       "      <td>2</td>\n",
       "      <td>4</td>\n",
       "      <td>2</td>\n",
       "      <td>1</td>\n",
       "    </tr>\n",
       "    <tr>\n",
       "      <th>7</th>\n",
       "      <td>0</td>\n",
       "      <td>0</td>\n",
       "      <td>5</td>\n",
       "      <td>1</td>\n",
       "      <td>4</td>\n",
       "      <td>2</td>\n",
       "      <td>1</td>\n",
       "    </tr>\n",
       "    <tr>\n",
       "      <th>8</th>\n",
       "      <td>0</td>\n",
       "      <td>0</td>\n",
       "      <td>5</td>\n",
       "      <td>1</td>\n",
       "      <td>4</td>\n",
       "      <td>2</td>\n",
       "      <td>1</td>\n",
       "    </tr>\n",
       "    <tr>\n",
       "      <th>9</th>\n",
       "      <td>0</td>\n",
       "      <td>0</td>\n",
       "      <td>5</td>\n",
       "      <td>1</td>\n",
       "      <td>4</td>\n",
       "      <td>2</td>\n",
       "      <td>1</td>\n",
       "    </tr>\n",
       "  </tbody>\n",
       "</table>\n",
       "</div>"
      ]
     },
     "execution_count": 46,
     "metadata": {},
     "output_type": "execute_result"
    }
   ],
   "execution_count": 46
  },
  {
   "cell_type": "markdown",
   "source": [
    "Ahora ejecutamos SMOKE para todos los datos."
   ],
   "metadata": {
    "id": "dthNOaluYYZW"
   }
  },
  {
   "cell_type": "markdown",
   "source": [
    "*Now, we run SMOTE on the entire dataset.*"
   ],
   "metadata": {
    "id": "tU1tApZmYc0p"
   }
  },
  {
   "cell_type": "code",
   "source": [
    "# Ejecutar SMOOTE a todos los datos\n",
    "smote = SMOTE(k_neighbors=3, random_state=123, sampling_strategy = 'minority')\n",
    "X_smote, y_smote = smote.fit_resample(X_train, y_train)\n",
    "df_train_smote = pd.concat([X_smote, y_smote], axis=1)"
   ],
   "metadata": {
    "id": "WnCsgXtbCEh9",
    "ExecuteTime": {
     "end_time": "2025-07-20T00:09:43.129774Z",
     "start_time": "2025-07-20T00:09:43.087842Z"
    }
   },
   "outputs": [],
   "execution_count": 47
  },
  {
   "cell_type": "code",
   "source": [
    "df_train_smote['Ataque_cardiaco'].value_counts(1)"
   ],
   "metadata": {
    "id": "FWF8WS_zCEfz",
    "colab": {
     "base_uri": "https://localhost:8080/",
     "height": 178
    },
    "outputId": "8a639b3e-fa8b-45e9-b1e9-462c00ea0b49",
    "ExecuteTime": {
     "end_time": "2025-07-20T00:09:43.230837Z",
     "start_time": "2025-07-20T00:09:43.220898Z"
    }
   },
   "outputs": [
    {
     "data": {
      "text/plain": [
       "Ataque_cardiaco\n",
       "0    0.5\n",
       "1    0.5\n",
       "Name: proportion, dtype: float64"
      ]
     },
     "execution_count": 48,
     "metadata": {},
     "output_type": "execute_result"
    }
   ],
   "execution_count": 48
  },
  {
   "cell_type": "code",
   "source": [
    "df_train_smote['Ataque_cardiaco'].value_counts(0)"
   ],
   "metadata": {
    "id": "Jr8Zg-W_CEdV",
    "colab": {
     "base_uri": "https://localhost:8080/",
     "height": 178
    },
    "outputId": "36fc0c80-f4ac-44f4-c589-222a133eb2b2",
    "ExecuteTime": {
     "end_time": "2025-07-20T00:09:43.348030Z",
     "start_time": "2025-07-20T00:09:43.342648Z"
    }
   },
   "outputs": [
    {
     "data": {
      "text/plain": [
       "Ataque_cardiaco\n",
       "0    34099\n",
       "1    34099\n",
       "Name: count, dtype: int64"
      ]
     },
     "execution_count": 49,
     "metadata": {},
     "output_type": "execute_result"
    }
   ],
   "execution_count": 49
  },
  {
   "cell_type": "markdown",
   "source": [
    "Ahora los datos están balanceados."
   ],
   "metadata": {
    "id": "ZFsZWPlqYnju"
   }
  },
  {
   "cell_type": "markdown",
   "source": [
    "*Now, the data are balanced.*"
   ],
   "metadata": {
    "id": "j_qTbeBVYz5P"
   }
  },
  {
   "cell_type": "markdown",
   "source": [
    "# 5. Ejecución de modelos / *Model execution*"
   ],
   "metadata": {
    "id": "xMvDbOJVRxL1"
   }
  },
  {
   "cell_type": "markdown",
   "source": [
    "Ya que el caso se trata de un problema de clasificación (personas que sufren ataques cardiacos vs. personas que no), trabajaremos con los modelos de XGBoost y Random Forest. Se utilizará el dataset balanceado por SMOTE para ejecutar los modelos."
   ],
   "metadata": {
    "id": "6ok94ltFgpxx"
   }
  },
  {
   "cell_type": "markdown",
   "source": [
    "*Since this is a classification problem (people who suffer heart attacks vs. those who do not), we will work with the XGBoost and Random Forest models. The dataset balanced by SMOTE will be used to run the models.*"
   ],
   "metadata": {
    "id": "ZRxyQAFtm9E6"
   }
  },
  {
   "cell_type": "code",
   "source": [
    "#X_train, y_train\n",
    "X_train_smote = df_train_smote.drop('Ataque_cardiaco', axis=1)\n",
    "y_train_smote = df_train_smote['Ataque_cardiaco']"
   ],
   "metadata": {
    "id": "IuBtJKYxShfV",
    "ExecuteTime": {
     "end_time": "2025-07-20T00:09:43.458861Z",
     "start_time": "2025-07-20T00:09:43.453132Z"
    }
   },
   "outputs": [],
   "execution_count": 50
  },
  {
   "cell_type": "markdown",
   "source": [
    "## 5.1. XGBoost"
   ],
   "metadata": {
    "id": "jOD5g8vXR-rV"
   }
  },
  {
   "cell_type": "code",
   "source": [
    "#Definición del modelo\n",
    "model_xgboost = xgb.XGBClassifier(random_state=123,\n",
    "                                  n_estimators = 10, #árboles\n",
    "                                  max_depth = 4, #complejidad\n",
    "                                  learning_rate = 0.1,\n",
    "                                  subsample = 0.5)\n",
    "\n",
    "#Entrenando el modelo\n",
    "model_xgboost.fit(X_train_smote, y_train_smote)\n",
    "\n",
    "#Predicción\n",
    "y_pred_xgboost = model_xgboost.predict(X_test)"
   ],
   "metadata": {
    "id": "PNJdr3qXRw8M",
    "ExecuteTime": {
     "end_time": "2025-07-20T00:09:43.625109Z",
     "start_time": "2025-07-20T00:09:43.565228Z"
    }
   },
   "outputs": [],
   "execution_count": 51
  },
  {
   "cell_type": "markdown",
   "source": [
    "## 5.2. Random Forest"
   ],
   "metadata": {
    "id": "zy1KBPgiSEZW"
   }
  },
  {
   "cell_type": "code",
   "source": [
    "#Definición del modelo\n",
    "model_random_forest = RandomForestClassifier(random_state = 123,\n",
    "                                             n_estimators = 10,\n",
    "                                             max_depth = 4)\n",
    "\n",
    "#Entrenando el modelo\n",
    "model_random_forest.fit(X_train_smote, y_train_smote)\n",
    "\n",
    "#Predicción\n",
    "y_pred_random_forest = model_random_forest.predict(X_test)"
   ],
   "metadata": {
    "id": "PwF3K9p2EkGd",
    "ExecuteTime": {
     "end_time": "2025-07-20T00:09:43.836048Z",
     "start_time": "2025-07-20T00:09:43.709143Z"
    }
   },
   "outputs": [],
   "execution_count": 52
  },
  {
   "cell_type": "markdown",
   "source": [
    "# 6. Evaluación de modelos"
   ],
   "metadata": {
    "id": "u4QDA0l2XGDq"
   }
  },
  {
   "cell_type": "markdown",
   "source": [
    "A continuación se evaluarán los modelos utilizando las siguientes métricas: Accuracy, Matriz de confusión y Reporte de clasificación."
   ],
   "metadata": {
    "id": "nfvktAGXpvac"
   }
  },
  {
   "cell_type": "markdown",
   "source": [
    "*Now, the models will be evaluated using the following metrics: Accuracy, Confusion matrix, and Classification report.*\n"
   ],
   "metadata": {
    "id": "jwsnMygkqIQe"
   }
  },
  {
   "cell_type": "markdown",
   "source": [
    "## 6.1. XGBoost"
   ],
   "metadata": {
    "id": "oBENP1EVaVXa"
   }
  },
  {
   "cell_type": "code",
   "source": [
    "print('Accuracy:')\n",
    "accuracy_xgboost = accuracy_score(y_test, y_pred_xgboost)\n",
    "print(accuracy_xgboost)"
   ],
   "metadata": {
    "colab": {
     "base_uri": "https://localhost:8080/"
    },
    "id": "a2H2bqd8ai6l",
    "outputId": "72f39d04-8deb-4b9e-fef2-25f3b7b3551a",
    "ExecuteTime": {
     "end_time": "2025-07-20T00:09:43.875349Z",
     "start_time": "2025-07-20T00:09:43.869562Z"
    }
   },
   "outputs": [
    {
     "name": "stdout",
     "output_type": "stream",
     "text": [
      "Accuracy:\n",
      "0.7357142857142858\n"
     ]
    }
   ],
   "execution_count": 53
  },
  {
   "cell_type": "markdown",
   "source": [
    "El modelo tiene un acierto del 73.6% de las predicciones."
   ],
   "metadata": {
    "id": "m8Qna2A2_9d2"
   }
  },
  {
   "cell_type": "markdown",
   "source": [
    "*The model has an accuracy of 73.6% in its predictions.*"
   ],
   "metadata": {
    "id": "EzZTgjRcBu8A"
   }
  },
  {
   "cell_type": "code",
   "source": [
    "matrix_xgboost = confusion_matrix(y_test, y_pred_xgboost)\n",
    "\n",
    "#Labels\n",
    "labels = ['No ataque', 'Ataque']\n",
    "\n",
    "plt.figure(figsize=(6, 5))\n",
    "sns.heatmap(matrix_xgboost, annot=True, fmt='d', cmap='Blues', xticklabels=labels, yticklabels=labels)\n",
    "plt.xlabel('Etiqueta predicha / Predicted label')\n",
    "plt.ylabel('Etiqueta real / Actual label')\n",
    "plt.title('Matriz de confusión: XGBoost')\n",
    "plt.show()"
   ],
   "metadata": {
    "colab": {
     "base_uri": "https://localhost:8080/",
     "height": 487
    },
    "id": "lTwBKa59__1J",
    "outputId": "63d6369a-11d7-4b2e-8ddf-ce3f72b9b420",
    "ExecuteTime": {
     "end_time": "2025-07-20T00:09:44.052030Z",
     "start_time": "2025-07-20T00:09:43.918210Z"
    }
   },
   "outputs": [
    {
     "data": {
      "text/plain": [
       "<Figure size 600x500 with 2 Axes>"
      ],
      "image/png": "[encoded data removed]"
     },
     "metadata": {},
     "output_type": "display_data"
    }
   ],
   "execution_count": 54
  },
  {
   "cell_type": "markdown",
   "source": [
    "Si nos centramos en la predicción de ataques cardiacos, se tienen 126 casos detectados correctamente (verdaderos positivos) vs. 36 casos no detectados (falsos negativos)."
   ],
   "metadata": {
    "id": "WPb5Lm49CDpW"
   }
  },
  {
   "cell_type": "markdown",
   "source": [
    "*Focusing on the prediction of heart attacks, there are 126 correctly detected cases (true positives) vs. 36 undetected cases (false negatives).*"
   ],
   "metadata": {
    "id": "Ri_4Q6HHC7pS"
   }
  },
  {
   "cell_type": "code",
   "source": [
    "report_xgboost = classification_report(y_test, y_pred_xgboost, output_dict=True)\n",
    "\n",
    "#Convertir a dataframe\n",
    "df_report = pd.DataFrame(report_xgboost).transpose()\n",
    "\n",
    "#Redondeando\n",
    "df_report = df_report.round(3)\n",
    "\n",
    "plt.figure(figsize=(8, 5))\n",
    "sns.heatmap(df_report.iloc[:-3, :-1], annot=True, cmap=\"YlGnBu\", cbar=False, fmt=\".3f\")\n",
    "plt.title(\"Reporte de clasificación: XGBoost\")\n",
    "plt.ylabel(\"Clases\") #0: no ataque / nonattack , 1: ataque / attack\n",
    "plt.xlabel(\"Métricas\")\n",
    "plt.show()"
   ],
   "metadata": {
    "colab": {
     "base_uri": "https://localhost:8080/",
     "height": 488
    },
    "id": "H6T18fVZB86u",
    "outputId": "eb695134-a51c-4a7a-f30c-ddaf033c01b5",
    "ExecuteTime": {
     "end_time": "2025-07-20T00:09:44.176412Z",
     "start_time": "2025-07-20T00:09:44.092401Z"
    }
   },
   "outputs": [
    {
     "data": {
      "text/plain": [
       "<Figure size 800x500 with 1 Axes>"
      ],
      "image/png": "[encoded data removed]"
     },
     "metadata": {},
     "output_type": "display_data"
    }
   ],
   "execution_count": 55
  },
  {
   "cell_type": "markdown",
   "source": [
    "El modelo identifica correctamente el 73.5% (recall = 0.735) de todos los casos reales de no ataque, además detecta correctamente el 77.8% (recall = 0.778) de los ataques reales, lo cual es muy importante este contexto."
   ],
   "metadata": {
    "id": "W2LMeS4GDWkd"
   }
  },
  {
   "cell_type": "markdown",
   "source": [
    "*The model correctly identifies 73.5% (recall = 0.735) of all actual nonheart attack cases, and correctly detects 77.8% (recall = 0.778) of actual heart attack cases, which is very important in this context.*"
   ],
   "metadata": {
    "id": "eINTzJcuDy6i"
   }
  },
  {
   "cell_type": "markdown",
   "source": [
    "## 6.2. Random Forest"
   ],
   "metadata": {
    "id": "MqTLhKxiaXnV"
   }
  },
  {
   "cell_type": "code",
   "source": [
    "print('Accuracy:')\n",
    "accuracy_random_forest = accuracy_score(y_test, y_pred_random_forest)\n",
    "print(accuracy_random_forest)"
   ],
   "metadata": {
    "colab": {
     "base_uri": "https://localhost:8080/"
    },
    "id": "x2u45vNfbH0M",
    "outputId": "1d6af1af-91ad-4cf1-9974-53a4e54d368c",
    "ExecuteTime": {
     "end_time": "2025-07-20T00:09:44.220861Z",
     "start_time": "2025-07-20T00:09:44.215052Z"
    }
   },
   "outputs": [
    {
     "name": "stdout",
     "output_type": "stream",
     "text": [
      "Accuracy:\n",
      "0.7343317972350231\n"
     ]
    }
   ],
   "execution_count": 56
  },
  {
   "cell_type": "markdown",
   "source": [
    "El modelo tiene un acierto del 73.4% de las predicciones."
   ],
   "metadata": {
    "id": "DfxMelMAD54b"
   }
  },
  {
   "cell_type": "markdown",
   "source": [
    "*The model has an accuracy of 73.4% in its predictions.*"
   ],
   "metadata": {
    "id": "nLOy_HxlD6pi"
   }
  },
  {
   "cell_type": "code",
   "source": [
    "matrix_random_forest = confusion_matrix(y_test, y_pred_random_forest)\n",
    "\n",
    "#Labels\n",
    "labels = ['No ataque', 'Ataque']\n",
    "\n",
    "plt.figure(figsize=(6, 5))\n",
    "sns.heatmap(matrix_random_forest, annot=True, fmt='d', cmap='Blues', xticklabels=labels, yticklabels=labels)\n",
    "plt.xlabel('Etiqueta predicha / Predict label')\n",
    "plt.ylabel('Etiqueta real / Actual label')\n",
    "plt.title('Matriz de confusión: Random Forest')\n",
    "plt.show()"
   ],
   "metadata": {
    "colab": {
     "base_uri": "https://localhost:8080/",
     "height": 487
    },
    "id": "SjORaibND7EU",
    "outputId": "5c4adb9d-d959-409e-91d4-a9cdbd6b6530",
    "ExecuteTime": {
     "end_time": "2025-07-20T00:09:44.390544Z",
     "start_time": "2025-07-20T00:09:44.269552Z"
    }
   },
   "outputs": [
    {
     "data": {
      "text/plain": [
       "<Figure size 600x500 with 2 Axes>"
      ],
      "image/png": "[encoded data removed]"
     },
     "metadata": {},
     "output_type": "display_data"
    }
   ],
   "execution_count": 57
  },
  {
   "cell_type": "markdown",
   "source": [
    "Respecto a la predicción de ataques cardiacos, se tienen 127 casos detectados correctamente (verdaderos positivos) vs. 35 casos no detectados (falsos negativos)."
   ],
   "metadata": {
    "id": "afSrmarXERol"
   }
  },
  {
   "cell_type": "markdown",
   "source": [
    "*Regarding the prediction of heart attacks, there are 127 correctly detected cases (true positives) versus 35 undetected cases (false negatives).*"
   ],
   "metadata": {
    "id": "5vFGEKNfEbsZ"
   }
  },
  {
   "cell_type": "code",
   "source": [
    "report_random_forest = classification_report(y_test, y_pred_random_forest, output_dict=True)\n",
    "\n",
    "#Convertir a dataframe\n",
    "df_report = pd.DataFrame(report_random_forest).transpose()\n",
    "\n",
    "#Redondeando\n",
    "df_report = df_report.round(3)\n",
    "\n",
    "plt.figure(figsize=(8, 5))\n",
    "sns.heatmap(df_report.iloc[:-3, :-1], annot=True, cmap=\"YlGnBu\", cbar=False, fmt=\".3f\")\n",
    "plt.title(\"Reporte de clasificación: Random Forest\")\n",
    "plt.ylabel(\"Clases\") #0: no ataque / nonattack , 1: ataque / attack\n",
    "plt.xlabel(\"Métricas\")\n",
    "plt.show()"
   ],
   "metadata": {
    "colab": {
     "base_uri": "https://localhost:8080/",
     "height": 488
    },
    "id": "gUPVK73nEkwR",
    "outputId": "80eb067f-c959-4a6b-9b70-b7abebe88e2a",
    "ExecuteTime": {
     "end_time": "2025-07-20T00:09:44.509186Z",
     "start_time": "2025-07-20T00:09:44.430640Z"
    }
   },
   "outputs": [
    {
     "data": {
      "text/plain": [
       "<Figure size 800x500 with 1 Axes>"
      ],
      "image/png": "[encoded data removed]"
     },
     "metadata": {},
     "output_type": "display_data"
    }
   ],
   "execution_count": 58
  },
  {
   "cell_type": "markdown",
   "source": "Este modelo identifica correctamente el 73.3% (recall = 0.733) de todos los casos reales de no ataque, además detecta correctamente el 78.4% (recall = 0.784) de los ataques reales.",
   "metadata": {
    "id": "MEIjLFnvEn5i"
   }
  },
  {
   "cell_type": "markdown",
   "source": "*This model correctly identifies 73.3% (recall = 0.733) of all actual nonheart attack cases, and correctly detects 78.4% (recall = 0.784) of actual heart attack cases.*",
   "metadata": {
    "id": "g5j3k_LWE3O5"
   }
  },
  {
   "cell_type": "markdown",
   "source": [
    "# 6.3. Comparación de modelos"
   ],
   "metadata": {
    "id": "NCF0okWjbDtz"
   }
  },
  {
   "cell_type": "code",
   "source": [
    "tabla_comparacion = pd.DataFrame([\n",
    "    {\n",
    "        'Modelos': 'XGBoost',\n",
    "        'Accuracy': round(accuracy_xgboost * 100, 2),  # porcentaje\n",
    "        'Precision': round(report_xgboost['1']['precision'], 3),\n",
    "        'Recall': round(report_xgboost['1']['recall'], 3),\n",
    "        'F1': round(report_xgboost['1']['f1-score'], 3)\n",
    "    },\n",
    "    {\n",
    "        'Modelos': 'Random Forest',\n",
    "        'Accuracy': round(accuracy_random_forest * 100, 2),  # porcentaje\n",
    "        'Precision': round(report_random_forest['1']['precision'], 3),\n",
    "        'Recall': round(report_random_forest['1']['recall'], 3),\n",
    "        'F1': round(report_random_forest['1']['f1-score'], 3)\n",
    "    }\n",
    "])\n",
    "tabla_comparacion"
   ],
   "metadata": {
    "id": "rP6RO786EkES",
    "colab": {
     "base_uri": "https://localhost:8080/",
     "height": 125
    },
    "outputId": "982525f5-0bb9-4939-b484-966599547343",
    "ExecuteTime": {
     "end_time": "2025-07-20T00:09:44.561422Z",
     "start_time": "2025-07-20T00:09:44.550217Z"
    }
   },
   "outputs": [
    {
     "data": {
      "text/plain": [
       "         Modelos  Accuracy  Precision  Recall     F1\n",
       "0        XGBoost     73.57      0.053   0.778  0.099\n",
       "1  Random Forest     73.43      0.053   0.784  0.099"
      ],
      "text/html": [
       "<div>\n",
       "<style scoped>\n",
       "    .dataframe tbody tr th:only-of-type {\n",
       "        vertical-align: middle;\n",
       "    }\n",
       "\n",
       "    .dataframe tbody tr th {\n",
       "        vertical-align: top;\n",
       "    }\n",
       "\n",
       "    .dataframe thead th {\n",
       "        text-align: right;\n",
       "    }\n",
       "</style>\n",
       "<table border=\"1\" class=\"dataframe\">\n",
       "  <thead>\n",
       "    <tr style=\"text-align: right;\">\n",
       "      <th></th>\n",
       "      <th>Modelos</th>\n",
       "      <th>Accuracy</th>\n",
       "      <th>Precision</th>\n",
       "      <th>Recall</th>\n",
       "      <th>F1</th>\n",
       "    </tr>\n",
       "  </thead>\n",
       "  <tbody>\n",
       "    <tr>\n",
       "      <th>0</th>\n",
       "      <td>XGBoost</td>\n",
       "      <td>73.57</td>\n",
       "      <td>0.053</td>\n",
       "      <td>0.778</td>\n",
       "      <td>0.099</td>\n",
       "    </tr>\n",
       "    <tr>\n",
       "      <th>1</th>\n",
       "      <td>Random Forest</td>\n",
       "      <td>73.43</td>\n",
       "      <td>0.053</td>\n",
       "      <td>0.784</td>\n",
       "      <td>0.099</td>\n",
       "    </tr>\n",
       "  </tbody>\n",
       "</table>\n",
       "</div>"
      ]
     },
     "execution_count": 59,
     "metadata": {},
     "output_type": "execute_result"
    }
   ],
   "execution_count": 59
  },
  {
   "cell_type": "markdown",
   "source": [
    "Si se prioriza la predicción de casos de ataques cardiacos, debido a la métrica recall de 0.784, el modelo Random Forest tiene mayor rendimiento en este, lo que significa que indentifica 78.4% de los casos reales de ataques."
   ],
   "metadata": {
    "id": "MWesOod4W3ND"
   }
  },
  {
   "cell_type": "markdown",
   "source": [
    "*If priority is given to predicting heart attack cases, the Random Forest model shows better performance in this, with a recall of 0.784, meaning it correctly identifies 78.4% of actual heart attack cases.*"
   ],
   "metadata": {
    "id": "kHHesc4Vp9cL"
   }
  },
  {
   "cell_type": "markdown",
   "source": [
    "# 7. Predicción con nuevos datos"
   ],
   "metadata": {
    "id": "gC5xYwr3Vg2g"
   }
  },
  {
   "cell_type": "markdown",
   "source": [
    "A continuación, probamos el modelo de Random Forest, realizando predicciones de ataque cardíaco para una persona sana vs. una persona enferma."
   ],
   "metadata": {
    "id": "iMWFwCEUsj_Q"
   }
  },
  {
   "cell_type": "markdown",
   "source": [
    "*Next, we test the Random Forest model by making heart attack predictions for a healthy person versus a sick person.*"
   ],
   "metadata": {
    "id": "SgMDSDqBtBSa"
   }
  },
  {
   "cell_type": "code",
   "source": [
    "df_encoded.head()"
   ],
   "metadata": {
    "id": "orbrJybZVpqD",
    "colab": {
     "base_uri": "https://localhost:8080/",
     "height": 206
    },
    "outputId": "860090e5-5f97-4205-86e3-ee7583a9f57f",
    "ExecuteTime": {
     "end_time": "2025-07-20T00:09:44.643323Z",
     "start_time": "2025-07-20T00:09:44.635570Z"
    }
   },
   "outputs": [
    {
     "data": {
      "text/plain": [
       "   Ataque_cardiaco  Flag_hipertension  Flag_problem_cardiaco  Edad_Encoded  \\\n",
       "0                0                  0                      0             1   \n",
       "1                0                  1                      0             5   \n",
       "2                0                  0                      0             2   \n",
       "3                0                  0                      0             6   \n",
       "4                0                  0                      0             3   \n",
       "\n",
       "   Glucosa_Encoded  IMC_Encoded  TipoTrabajo_Encoded  \n",
       "0                1            1                    5  \n",
       "1                1            4                    2  \n",
       "2                2            1                    2  \n",
       "3                1            4                    2  \n",
       "4                3            2                    4  "
      ],
      "text/html": [
       "<div>\n",
       "<style scoped>\n",
       "    .dataframe tbody tr th:only-of-type {\n",
       "        vertical-align: middle;\n",
       "    }\n",
       "\n",
       "    .dataframe tbody tr th {\n",
       "        vertical-align: top;\n",
       "    }\n",
       "\n",
       "    .dataframe thead th {\n",
       "        text-align: right;\n",
       "    }\n",
       "</style>\n",
       "<table border=\"1\" class=\"dataframe\">\n",
       "  <thead>\n",
       "    <tr style=\"text-align: right;\">\n",
       "      <th></th>\n",
       "      <th>Ataque_cardiaco</th>\n",
       "      <th>Flag_hipertension</th>\n",
       "      <th>Flag_problem_cardiaco</th>\n",
       "      <th>Edad_Encoded</th>\n",
       "      <th>Glucosa_Encoded</th>\n",
       "      <th>IMC_Encoded</th>\n",
       "      <th>TipoTrabajo_Encoded</th>\n",
       "    </tr>\n",
       "  </thead>\n",
       "  <tbody>\n",
       "    <tr>\n",
       "      <th>0</th>\n",
       "      <td>0</td>\n",
       "      <td>0</td>\n",
       "      <td>0</td>\n",
       "      <td>1</td>\n",
       "      <td>1</td>\n",
       "      <td>1</td>\n",
       "      <td>5</td>\n",
       "    </tr>\n",
       "    <tr>\n",
       "      <th>1</th>\n",
       "      <td>0</td>\n",
       "      <td>1</td>\n",
       "      <td>0</td>\n",
       "      <td>5</td>\n",
       "      <td>1</td>\n",
       "      <td>4</td>\n",
       "      <td>2</td>\n",
       "    </tr>\n",
       "    <tr>\n",
       "      <th>2</th>\n",
       "      <td>0</td>\n",
       "      <td>0</td>\n",
       "      <td>0</td>\n",
       "      <td>2</td>\n",
       "      <td>2</td>\n",
       "      <td>1</td>\n",
       "      <td>2</td>\n",
       "    </tr>\n",
       "    <tr>\n",
       "      <th>3</th>\n",
       "      <td>0</td>\n",
       "      <td>0</td>\n",
       "      <td>0</td>\n",
       "      <td>6</td>\n",
       "      <td>1</td>\n",
       "      <td>4</td>\n",
       "      <td>2</td>\n",
       "    </tr>\n",
       "    <tr>\n",
       "      <th>4</th>\n",
       "      <td>0</td>\n",
       "      <td>0</td>\n",
       "      <td>0</td>\n",
       "      <td>3</td>\n",
       "      <td>3</td>\n",
       "      <td>2</td>\n",
       "      <td>4</td>\n",
       "    </tr>\n",
       "  </tbody>\n",
       "</table>\n",
       "</div>"
      ]
     },
     "execution_count": 60,
     "metadata": {},
     "output_type": "execute_result"
    }
   ],
   "execution_count": 60
  },
  {
   "cell_type": "code",
   "source": [
    "#Conjunto de datos: persona sana / healthy person\n",
    "data_healthy = pd.DataFrame({'Flag_hipertension':[0], #hipertensión: no\n",
    "                            'Flag_problem_cardiaco' : [0], #problemas cardíacos: no\n",
    "                            'Edad_Encoded':[4], #edad: joven\n",
    "                            'Glucosa_Encoded':[1], #nivel de glucosa: normal\n",
    "                            'IMC_Encoded':[2], #IMC: saludable\n",
    "                            'TipoTrabajo_Encoded':[2]}) #tipo trabajo: empresa privada\n",
    "data_healthy"
   ],
   "metadata": {
    "colab": {
     "base_uri": "https://localhost:8080/",
     "height": 89
    },
    "id": "VeiYKE5YtbsO",
    "outputId": "0f9ee278-b1ed-473d-b1fc-0f39bfded385",
    "ExecuteTime": {
     "end_time": "2025-07-20T00:15:11.487025Z",
     "start_time": "2025-07-20T00:15:11.477984Z"
    }
   },
   "outputs": [
    {
     "data": {
      "text/plain": [
       "   Flag_hipertension  Flag_problem_cardiaco  Edad_Encoded  Glucosa_Encoded  \\\n",
       "0                  0                      0             4                1   \n",
       "\n",
       "   IMC_Encoded  TipoTrabajo_Encoded  \n",
       "0            2                    2  "
      ],
      "text/html": [
       "<div>\n",
       "<style scoped>\n",
       "    .dataframe tbody tr th:only-of-type {\n",
       "        vertical-align: middle;\n",
       "    }\n",
       "\n",
       "    .dataframe tbody tr th {\n",
       "        vertical-align: top;\n",
       "    }\n",
       "\n",
       "    .dataframe thead th {\n",
       "        text-align: right;\n",
       "    }\n",
       "</style>\n",
       "<table border=\"1\" class=\"dataframe\">\n",
       "  <thead>\n",
       "    <tr style=\"text-align: right;\">\n",
       "      <th></th>\n",
       "      <th>Flag_hipertension</th>\n",
       "      <th>Flag_problem_cardiaco</th>\n",
       "      <th>Edad_Encoded</th>\n",
       "      <th>Glucosa_Encoded</th>\n",
       "      <th>IMC_Encoded</th>\n",
       "      <th>TipoTrabajo_Encoded</th>\n",
       "    </tr>\n",
       "  </thead>\n",
       "  <tbody>\n",
       "    <tr>\n",
       "      <th>0</th>\n",
       "      <td>0</td>\n",
       "      <td>0</td>\n",
       "      <td>4</td>\n",
       "      <td>1</td>\n",
       "      <td>2</td>\n",
       "      <td>2</td>\n",
       "    </tr>\n",
       "  </tbody>\n",
       "</table>\n",
       "</div>"
      ]
     },
     "execution_count": 68,
     "metadata": {},
     "output_type": "execute_result"
    }
   ],
   "execution_count": 68
  },
  {
   "cell_type": "code",
   "source": [
    "model_random_forest.predict(data_healthy)"
   ],
   "metadata": {
    "colab": {
     "base_uri": "https://localhost:8080/"
    },
    "id": "25IgOmZ8tiYO",
    "outputId": "3e4c8670-4edc-46c0-fac4-8f86b49c4d57",
    "ExecuteTime": {
     "end_time": "2025-07-20T00:15:14.024244Z",
     "start_time": "2025-07-20T00:15:14.018024Z"
    }
   },
   "outputs": [
    {
     "data": {
      "text/plain": [
       "array([0])"
      ]
     },
     "execution_count": 69,
     "metadata": {},
     "output_type": "execute_result"
    }
   ],
   "execution_count": 69
  },
  {
   "cell_type": "code",
   "source": [
    "model_random_forest.predict_proba(data_healthy)"
   ],
   "metadata": {
    "colab": {
     "base_uri": "https://localhost:8080/"
    },
    "id": "29PI_lTetwG-",
    "outputId": "aeea2640-bb51-4fcb-fb8f-5b01a4a03839",
    "ExecuteTime": {
     "end_time": "2025-07-20T00:15:16.125479Z",
     "start_time": "2025-07-20T00:15:16.119142Z"
    }
   },
   "outputs": [
    {
     "data": {
      "text/plain": [
       "array([[0.85884385, 0.14115615]])"
      ]
     },
     "execution_count": 70,
     "metadata": {},
     "output_type": "execute_result"
    }
   ],
   "execution_count": 70
  },
  {
   "cell_type": "markdown",
   "source": "Para una persona joven sana sin problemas cardíacos y de peso saludable el modelo ha obtenido una predicción del 85.9% que no sufra un ataque cardíaco.",
   "metadata": {
    "id": "uHM1irMLvTAk"
   }
  },
  {
   "cell_type": "markdown",
   "source": "*For a young, healthy person with no heart problems and a healthy weight, the model predicted a 85.9% chance of not having a heart attack.*",
   "metadata": {
    "id": "8g8Z2eM-vvfz"
   }
  },
  {
   "cell_type": "code",
   "source": [
    "#Conjunto de datos: persona enferma / sick person\n",
    "data_sick = pd.DataFrame({'Flag_hipertension':[1], #hipertensión: sí\n",
    "                            'Flag_problem_cardiaco' : [1], #problemas cardiacos: sí\n",
    "                            'Edad_Encoded':[6], #edad: adulto mayor\n",
    "                            'Glucosa_Encoded':[2], #nivel de glucosa: prediabetes\n",
    "                            'IMC_Encoded':[3], #IMC: sobrepeso\n",
    "                            'TipoTrabajo_Encoded':[2]}) #tipo trabajo: empresa privada\n",
    "data_sick"
   ],
   "metadata": {
    "id": "8Sx8qJSrEkCg",
    "colab": {
     "base_uri": "https://localhost:8080/",
     "height": 89
    },
    "outputId": "89815977-3e32-4c8c-d2f9-343893b7c1b2",
    "ExecuteTime": {
     "end_time": "2025-07-20T00:15:25.563617Z",
     "start_time": "2025-07-20T00:15:25.555060Z"
    }
   },
   "outputs": [
    {
     "data": {
      "text/plain": [
       "   Flag_hipertension  Flag_problem_cardiaco  Edad_Encoded  Glucosa_Encoded  \\\n",
       "0                  1                      1             6                2   \n",
       "\n",
       "   IMC_Encoded  TipoTrabajo_Encoded  \n",
       "0            3                    2  "
      ],
      "text/html": [
       "<div>\n",
       "<style scoped>\n",
       "    .dataframe tbody tr th:only-of-type {\n",
       "        vertical-align: middle;\n",
       "    }\n",
       "\n",
       "    .dataframe tbody tr th {\n",
       "        vertical-align: top;\n",
       "    }\n",
       "\n",
       "    .dataframe thead th {\n",
       "        text-align: right;\n",
       "    }\n",
       "</style>\n",
       "<table border=\"1\" class=\"dataframe\">\n",
       "  <thead>\n",
       "    <tr style=\"text-align: right;\">\n",
       "      <th></th>\n",
       "      <th>Flag_hipertension</th>\n",
       "      <th>Flag_problem_cardiaco</th>\n",
       "      <th>Edad_Encoded</th>\n",
       "      <th>Glucosa_Encoded</th>\n",
       "      <th>IMC_Encoded</th>\n",
       "      <th>TipoTrabajo_Encoded</th>\n",
       "    </tr>\n",
       "  </thead>\n",
       "  <tbody>\n",
       "    <tr>\n",
       "      <th>0</th>\n",
       "      <td>1</td>\n",
       "      <td>1</td>\n",
       "      <td>6</td>\n",
       "      <td>2</td>\n",
       "      <td>3</td>\n",
       "      <td>2</td>\n",
       "    </tr>\n",
       "  </tbody>\n",
       "</table>\n",
       "</div>"
      ]
     },
     "execution_count": 71,
     "metadata": {},
     "output_type": "execute_result"
    }
   ],
   "execution_count": 71
  },
  {
   "cell_type": "code",
   "source": [
    "model_random_forest.predict(data_sick)"
   ],
   "metadata": {
    "id": "uSZGz3P-EkAf",
    "colab": {
     "base_uri": "https://localhost:8080/"
    },
    "outputId": "182ce7a1-5148-4b3c-cdf6-35d1a2e89e71",
    "ExecuteTime": {
     "end_time": "2025-07-20T00:15:27.735369Z",
     "start_time": "2025-07-20T00:15:27.729400Z"
    }
   },
   "outputs": [
    {
     "data": {
      "text/plain": [
       "array([1])"
      ]
     },
     "execution_count": 72,
     "metadata": {},
     "output_type": "execute_result"
    }
   ],
   "execution_count": 72
  },
  {
   "cell_type": "code",
   "source": [
    "model_random_forest.predict_proba(data_sick)"
   ],
   "metadata": {
    "id": "qIk0IJ6PEj-K",
    "colab": {
     "base_uri": "https://localhost:8080/"
    },
    "outputId": "f450208a-bf2e-4c33-ddea-67e9a0129931",
    "ExecuteTime": {
     "end_time": "2025-07-20T00:15:29.718231Z",
     "start_time": "2025-07-20T00:15:29.712225Z"
    }
   },
   "outputs": [
    {
     "data": {
      "text/plain": [
       "array([[0.21334946, 0.78665054]])"
      ]
     },
     "execution_count": 73,
     "metadata": {},
     "output_type": "execute_result"
    }
   ],
   "execution_count": 73
  },
  {
   "cell_type": "markdown",
   "source": "Para una persona anciana con problemas cardíacos y sobrepeso el modelo ha obtenido una predicción del 78.7% que sufra un ataque cardíaco.",
   "metadata": {
    "id": "GmzMnV9_v7QO"
   }
  },
  {
   "cell_type": "markdown",
   "source": "*For an elderly person with heart problems and overweight, the model predicted a 78.7% chance of having a heart attack.*",
   "metadata": {
    "id": "6S8-mtwswNbu"
   }
  },
  {
   "cell_type": "code",
   "source": [
    "import joblib\n",
    "\n",
    "#Importar modelo\n",
    "joblib.dump(model_random_forest, \"heart_attack_rf_model.pkl\")"
   ],
   "metadata": {
    "colab": {
     "base_uri": "https://localhost:8080/"
    },
    "id": "pPOpsK6gPplI",
    "outputId": "5ae3134e-fcaf-4849-bf98-fe7fc88e5d0c",
    "ExecuteTime": {
     "end_time": "2025-07-20T00:09:45.748030Z",
     "start_time": "2025-07-20T00:09:45.740212Z"
    }
   },
   "outputs": [
    {
     "data": {
      "text/plain": [
       "['heart_attack_rf_model.pkl']"
      ]
     },
     "execution_count": 67,
     "metadata": {},
     "output_type": "execute_result"
    }
   ],
   "execution_count": 67
  },
  {
   "cell_type": "markdown",
   "source": [
    "Finalmente, se importa el modelo de Random Forest."
   ],
   "metadata": {
    "id": "HWsJdHsWPsXR"
   }
  },
  {
   "cell_type": "markdown",
   "source": [
    "*Finally, the Random Forest model is imported.*"
   ],
   "metadata": {
    "id": "rQklAZlrPvIE"
   }
  },
  {
   "cell_type": "markdown",
   "source": [
    "# 8. Conclusiones y recomendaciones / *Conclusions and recommendations*"
   ],
   "metadata": {
    "id": "2Yp-uVf_1QtM"
   }
  },
  {
   "cell_type": "markdown",
   "source": [
    "*   Se identificaron y trataron adecuadamente valores nulos (eliminación de variables con alta proporción de nulos e imputación).\n",
    "*   Se identificaron variables que tienen mayor correlación con la probabilidad de ataques cardiacos, ello quiere decir que una persona con la salud delicada tiene mayor posibilidad de sufrir un ataque cardíaco.\n",
    "*   Se aplicó la técnica SMOTE para balancear el conjunto de datos.\n",
    "*   La métrica **recall** es prioritaria ya que la detección de un ataque cardíaco es de suma importancia.\n",
    "*   Se recomienda aplicar técnicas adicionales para mejorar el rendimiento del modelo.\n",
    "*   Se recomienda validar con un profesional en caso se quiera aplicar el modelo en situaciones reales."
   ],
   "metadata": {
    "id": "e5klgCs21a6k"
   }
  },
  {
   "cell_type": "markdown",
   "source": [
    "* *Missing values were properly handled (removing variables with a high proportion of missing data and imputing others).*\n",
    "* *Variables with a higher correlation to heart attack probability were identified, indicating that individuals in bad health have more probability of experiencing a heart attack.*\n",
    "* *The SMOTE technique was applied to balance the dataset.*\n",
    "* *The **recall** metric is prioritized, as detecting a heart attack is very important.*\n",
    "* *It is recommended to apply additional techniques to improve the model's performance.*\n",
    "* *It is recommended to consult a professional if the model would be applied in real life situations.*"
   ],
   "metadata": {
    "id": "nKyuwn3D3S53"
   }
  }
 ]
}
